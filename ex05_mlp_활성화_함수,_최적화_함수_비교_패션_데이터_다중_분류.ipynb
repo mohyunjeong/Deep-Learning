{
  "nbformat": 4,
  "nbformat_minor": 0,
  "metadata": {
    "colab": {
      "private_outputs": true,
      "provenance": []
    },
    "kernelspec": {
      "name": "python3",
      "display_name": "Python 3"
    },
    "language_info": {
      "name": "python"
    }
  },
  "cells": [
    {
      "cell_type": "markdown",
      "source": [
        "### ✅ 목표\n",
        "- 패션 데이터를 가지고 활성화 함수, 최적화 함수를 변경시키면서 결과를 확인해보자"
      ],
      "metadata": {
        "id": "z3ZCbrO9sc10"
      }
    },
    {
      "cell_type": "code",
      "execution_count": null,
      "metadata": {
        "id": "BR3mG829onqc"
      },
      "outputs": [],
      "source": [
        "# 필요한 라이브러리 불러오기\n",
        "\n",
        "import pandas as pd\n",
        "import numpy as np\n",
        "import matplotlib.pyplot as plt"
      ]
    },
    {
      "cell_type": "code",
      "source": [
        "# 패션 데이터 불러오기\n",
        "# 데이터 import\n",
        "\n",
        "from tensorflow.keras.datasets import fashion_mnist\n",
        "\n",
        "# 데이터 객체 생성\n",
        "\n",
        "data = fashion_mnist.load_data()"
      ],
      "metadata": {
        "id": "tmluweY0srYR"
      },
      "execution_count": null,
      "outputs": []
    },
    {
      "cell_type": "code",
      "source": [
        "# 데이터 분할\n",
        "\n",
        "X_train = data[0][0]\n",
        "X_test = data[1][0]\n",
        "y_train = data[0][1]\n",
        "y_test = data[1][1]"
      ],
      "metadata": {
        "id": "K2WXApP-t2TP"
      },
      "execution_count": null,
      "outputs": []
    },
    {
      "cell_type": "code",
      "source": [
        "X_train.shape, X_test.shape, y_train.shape, y_test.shape"
      ],
      "metadata": {
        "id": "gRqdc-3IvQ5K"
      },
      "execution_count": null,
      "outputs": []
    },
    {
      "cell_type": "code",
      "source": [
        "# 데이터 확인\n",
        "\n",
        "X_train\n",
        "# 하나의 2차원 배열 -> 이미지 1장(x / y) -> 2차원 배열\n",
        "# 이미지의 갯수까지 포함하면 1차원이 추가 되어서 3차원 배열"
      ],
      "metadata": {
        "id": "HaS8PGnPvVx1"
      },
      "execution_count": null,
      "outputs": []
    },
    {
      "cell_type": "code",
      "source": [
        "# 정답 데이터 확인하기\n",
        "\n",
        "y_train\n",
        "# 1차원의 배열 / 숫자로 값이 이뤄졌다"
      ],
      "metadata": {
        "id": "tsOriowMvpsS"
      },
      "execution_count": null,
      "outputs": []
    },
    {
      "cell_type": "code",
      "source": [
        "# 정답 고유 값을 살펴보자 - 10개의 정답(다중 분류)\n",
        "\n",
        "np.unique(y_train)"
      ],
      "metadata": {
        "id": "ZC4drl7nv2Lx"
      },
      "execution_count": null,
      "outputs": []
    },
    {
      "cell_type": "markdown",
      "source": [
        "- 📌 데이터 정리\n",
        "    - 0 : 티셔츠\n",
        "    - 1 : 트라우저(바지)\n",
        "    - 2 : 단추가 없는 스웨터\n",
        "    - 3 : 드레스\n",
        "    - 4 : 코트\n",
        "    - 5 : 샌들\n",
        "    - 6 : 셔츠\n",
        "    - 7 : 스니커즈\n",
        "    - 8 : 가방\n",
        "    - 9 : 앵클 부츠"
      ],
      "metadata": {
        "id": "zgu2otPqwVKH"
      }
    },
    {
      "cell_type": "code",
      "source": [
        "# 이미지 출력해 보기\n",
        "\n",
        "plt.imshow(X_train[1], cmap='gray')"
      ],
      "metadata": {
        "id": "3vBCcqnMwuiy"
      },
      "execution_count": null,
      "outputs": []
    },
    {
      "cell_type": "code",
      "source": [
        "plt.imshow(X_train[10000], cmap='gray')\n",
        "print(y_train[10000])"
      ],
      "metadata": {
        "id": "_VnFBK6Mxsmp"
      },
      "execution_count": null,
      "outputs": []
    },
    {
      "cell_type": "code",
      "source": [
        "# 반복문을 통해서 여러 이미지를 뽑아 내보자\n",
        "\n",
        "for i in range(1, 50, 2) :\n",
        "    plt.imshow(X_train[i], cmap='gray')\n",
        "    plt.show()"
      ],
      "metadata": {
        "id": "B6_LABNwx2IJ"
      },
      "execution_count": null,
      "outputs": []
    },
    {
      "cell_type": "markdown",
      "source": [
        "### ✅ 이미지 전처리\n",
        "- MLP(다층 퍼셉트론)으로 신경망을 구현할 경우, 이미지를 1차원으로 펴서 넣어줘야 한다.\n",
        "- 1차원으로 펴진 이미지의 픽셀은 각각 뉴런에 들어가서 학습이 진행된다."
      ],
      "metadata": {
        "id": "LDmyMEpwyjHM"
      }
    },
    {
      "cell_type": "code",
      "source": [
        "# 이미지를 1차원으로 바꿔주는 방법 - 2가지\n",
        "# 1-1. reshape : 함수를 이용해서 직접 형태를 바꿔주는 방법\n",
        "# 1-2. Flatten : 신경망에 층을 추가해서 1차원으로 변형 시켜주는 방법"
      ],
      "metadata": {
        "id": "miwjwka4y3hY"
      },
      "execution_count": null,
      "outputs": []
    },
    {
      "cell_type": "code",
      "source": [
        "# 1-1 reshape : 손으로 직접 데이터를 펴주는 방법(실습만 해보자!)\n",
        "\n",
        "X_train_reshape = X_train.reshape(60000, -1) # -1 -> 784, 28*28, 28**2\n",
        "X_test_reshape = X_test.reshape(10000, -1)\n",
        "\n",
        "X_train_reshape.shape, X_test_reshape.shape"
      ],
      "metadata": {
        "id": "YBHsoSi2zyuE"
      },
      "execution_count": null,
      "outputs": []
    },
    {
      "cell_type": "code",
      "source": [
        "# 정답 데이터 전처리\n",
        "# 정답 데이터 종류 : 10개 (다중 분류)\n",
        "\n",
        "# 다중 분류를 진행 할 때 정답 데이터 -> 원핫 인코딩\n",
        "\n",
        "# 원핫 인코딩 진행방법\n",
        "# 1. pd.get_dummies() -> pandas\n",
        "# 2. to_categorical() -> tensorflow\n",
        "\n",
        "# to_categorical 사용해보기"
      ],
      "metadata": {
        "id": "bvaSXOyx1BqC"
      },
      "execution_count": null,
      "outputs": []
    },
    {
      "cell_type": "code",
      "source": [
        "# to_categorical import\n",
        "\n",
        "from tensorflow.keras.utils import to_categorical"
      ],
      "metadata": {
        "id": "gfjDmoV_1qpD"
      },
      "execution_count": null,
      "outputs": []
    },
    {
      "cell_type": "code",
      "source": [
        "# 정답 데이터 원핫 인코딩 진행\n",
        "\n",
        "y_train_oh = to_categorical(y_train)\n",
        "y_test_oh = to_categorical(y_test)"
      ],
      "metadata": {
        "id": "O4oNgV3115f6"
      },
      "execution_count": null,
      "outputs": []
    },
    {
      "cell_type": "markdown",
      "source": [
        "### ✅ 활성화 함수 / 최적화 함수 별로 성능 비교\n",
        "1. 중간층 활성화 함수 : sigmoid / 최적화함수 : SGD\n",
        "\n",
        "2. 중간층 활성화 함수 : sigmoid / 최적화 함수 : Adam\n",
        "\n",
        "3. 중간층 활성화 함수 : relu / 최적화 함수 : Adam\n",
        "\n",
        "4. 중간층 활성화 함수 : tanh / 최적화 함수 : SGD"
      ],
      "metadata": {
        "id": "Nc3-mPL16ae0"
      }
    },
    {
      "cell_type": "code",
      "source": [
        "# 신경망을 구현하기 위한 재료 import\n",
        "\n",
        "from tensorflow.keras.models import Sequential\n",
        "from tensorflow.keras.layers import Dense, Flatten"
      ],
      "metadata": {
        "id": "qnFt7Wgd7L7m"
      },
      "execution_count": null,
      "outputs": []
    },
    {
      "cell_type": "code",
      "source": [
        "# 최적화 함수 하이퍼 파라미터 변경을 위해 optimizer import\n",
        "\n",
        "from tensorflow.keras.optimizers import SGD, Adam"
      ],
      "metadata": {
        "id": "jVqotGLn7tAe"
      },
      "execution_count": null,
      "outputs": []
    },
    {
      "cell_type": "code",
      "source": [
        "# 모델 생성 함수 정의\n",
        "# 활성화 함수 / 최적화 함수는 매개변수 값으로 연결\n",
        "# acti = 활성화 함수, opti = 최적화 함수\n",
        "\n",
        "def create_model(acti, opti) :\n",
        "    model = Sequential()\n",
        "\n",
        "    # 입력층 구성 - Flatten(데이터를 1차원으로 펴줌)\n",
        "    model.add(Flatten(input_shape=(28, 28)))\n",
        "\n",
        "    # MLP층 쌓아주기\n",
        "    model.add(Dense(units = 200, activation=acti))\n",
        "    model.add(Dense(units = 100, activation=acti))\n",
        "    model.add(Dense(units = 50, activation=acti))\n",
        "\n",
        "    # 출력층 쌓기\n",
        "    model.add(Dense(units = 10, activation='softmax'))\n",
        "\n",
        "    # 모델 컴파일\n",
        "    model.compile(optimizer=opti, loss='categorical_crossentropy', metrics=['accuracy'])\n",
        "\n",
        "    return model"
      ],
      "metadata": {
        "id": "12NIuST874k4"
      },
      "execution_count": null,
      "outputs": []
    },
    {
      "cell_type": "code",
      "source": [
        "# fit 함수 정의\n",
        "# 모델명만 넣어주면 학습을 진행하는 코드를 작성\n",
        "\n",
        "def fit_model(estimator) :\n",
        "    h = estimator.fit(X_train, y_train_oh, validation_split=0.2, batch_size = 64, epochs = 30)\n",
        "\n",
        "    return h"
      ],
      "metadata": {
        "id": "nozMwVAX-QwL"
      },
      "execution_count": null,
      "outputs": []
    },
    {
      "cell_type": "code",
      "source": [
        "# 1. sigmoid + SGD\n",
        "\n",
        "model1 = create_model(acti='sigmoid', opti=SGD(learning_rate=0.01))\n",
        "\n",
        "h1 = fit_model(model1)"
      ],
      "metadata": {
        "id": "Fmao8aDT_fZa"
      },
      "execution_count": null,
      "outputs": []
    },
    {
      "cell_type": "code",
      "source": [
        "# 2. sigmoid + Adam\n",
        "\n",
        "model2 = create_model(acti='sigmoid', opti=Adam(learning_rate=0.001))\n",
        "\n",
        "h2 = fit_model(model2)"
      ],
      "metadata": {
        "id": "-87YW8P3BDSJ"
      },
      "execution_count": null,
      "outputs": []
    },
    {
      "cell_type": "code",
      "source": [
        "# 3. relu + Adam\n",
        "\n",
        "model3 = create_model(acti='relu', opti=Adam(learning_rate=0.001))\n",
        "\n",
        "h3 = fit_model(model3)"
      ],
      "metadata": {
        "id": "GPMQ0VfMB586"
      },
      "execution_count": null,
      "outputs": []
    },
    {
      "cell_type": "code",
      "source": [
        "# 4. tanh + SGD\n",
        "\n",
        "model4 = create_model(acti='tanh', opti=SGD(learning_rate=0.01))\n",
        "\n",
        "h4 = fit_model(model4)"
      ],
      "metadata": {
        "id": "fPAnHU1MB_eX"
      },
      "execution_count": null,
      "outputs": []
    },
    {
      "cell_type": "code",
      "source": [
        "# 4종류의 모델 학습 시각화\n",
        "plt.figure(figsize = (15,5))\n",
        "\n",
        "# model1\n",
        "plt.plot(h1.history['accuracy'], label = 'sigmoid+SGD')\n",
        "\n",
        "# model2\n",
        "plt.plot(h2.history['accuracy'], label = 'sigmoid+Adam')\n",
        "\n",
        "# model3\n",
        "plt.plot(h3.history['accuracy'], label = 'relu+Adam')\n",
        "\n",
        "# model4\n",
        "plt.plot(h4.history['accuracy'], label = 'tanh+SGD')\n",
        "\n",
        "plt.legend()\n",
        "\n",
        "plt.show()"
      ],
      "metadata": {
        "id": "TcXO4FO5CTDG"
      },
      "execution_count": null,
      "outputs": []
    }
  ]
}