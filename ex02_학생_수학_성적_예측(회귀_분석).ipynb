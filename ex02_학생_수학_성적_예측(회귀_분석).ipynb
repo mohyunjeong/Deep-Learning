{
  "nbformat": 4,
  "nbformat_minor": 0,
  "metadata": {
    "colab": {
      "private_outputs": true,
      "provenance": []
    },
    "kernelspec": {
      "name": "python3",
      "display_name": "Python 3"
    },
    "language_info": {
      "name": "python"
    }
  },
  "cells": [
    {
      "cell_type": "markdown",
      "source": [
        "### ✅ 딥러닝에서 사용할 프레임워크\n",
        "- Tensorflow(Tensorflow + Keras)\n",
        "- 복잡한 신경망을 블록 형태로 쉽게 구현하도록 만든 딥러닝 프레임워크"
      ],
      "metadata": {
        "id": "aw373fpmLmpU"
      }
    },
    {
      "cell_type": "code",
      "execution_count": null,
      "metadata": {
        "id": "muQ3HYScK5Ty"
      },
      "outputs": [],
      "source": [
        "# mount() : 장치를 특정한 위치에 연결해주는 함수\n",
        "\n",
        "from google.colab import drive\n",
        "\n",
        "drive.mount('/content/drive')"
      ]
    },
    {
      "cell_type": "code",
      "source": [
        "# 현재 우리 위치 확인해보기\n",
        "\n",
        "!pwd"
      ],
      "metadata": {
        "id": "OMpRC5tzP7Fq"
      },
      "execution_count": null,
      "outputs": []
    },
    {
      "cell_type": "code",
      "source": [
        "# 현재 파일이 있는 곳으로 기본경로 잡아주기\n",
        "\n",
        "%cd /content/drive/MyDrive/Colab Notebooks/Deep Learning"
      ],
      "metadata": {
        "id": "Okl_PdmHQHSQ"
      },
      "execution_count": null,
      "outputs": []
    },
    {
      "cell_type": "code",
      "source": [
        "!pwd"
      ],
      "metadata": {
        "id": "iboUvWdAQg5D"
      },
      "execution_count": null,
      "outputs": []
    },
    {
      "cell_type": "code",
      "source": [
        "# 텐서플로우 설치 코드\n",
        "# !pip install tensorflow"
      ],
      "metadata": {
        "id": "tKYXBLYSQmfw"
      },
      "execution_count": null,
      "outputs": []
    },
    {
      "cell_type": "code",
      "source": [
        "# 텐서플로우 버전 체크\n",
        "\n",
        "import tensorflow as tf\n",
        "\n",
        "print(tf.__version__)\n",
        "# 만약 ModuleNotFoundError가 발생한다면 설치가 안되어 있는거다!"
      ],
      "metadata": {
        "id": "sMOvJ-kqQ0hT"
      },
      "execution_count": null,
      "outputs": []
    },
    {
      "cell_type": "markdown",
      "source": [
        "### ✅ 목표 설정\n",
        "- 학생 성적 데이터를 이용해서 수학 성적을 예측하는 회귀 모델을 만들어 보자!\n",
        "- tensorflow.keras를 이용해서 신경망을 구현하는 방법을 알아보자"
      ],
      "metadata": {
        "id": "pVLqCindRVl1"
      }
    },
    {
      "cell_type": "code",
      "source": [
        "# 기초 3종 라이브러리 import\n",
        "\n",
        "import numpy as np\n",
        "import pandas as pd\n",
        "import matplotlib.pyplot as plt"
      ],
      "metadata": {
        "id": "2XXie74CRVHA"
      },
      "execution_count": null,
      "outputs": []
    },
    {
      "cell_type": "code",
      "source": [
        "# 데이터 불러오기\n",
        "\n",
        "data = pd.read_csv('data/student-mat.csv')\n",
        "data"
      ],
      "metadata": {
        "id": "VuKMzsY7SNZh"
      },
      "execution_count": null,
      "outputs": []
    },
    {
      "cell_type": "code",
      "source": [
        "# 중간에 생략된 컬럼 전체 확인해보기\n",
        "\n",
        "pd.set_option('display.max_columns', None)"
      ],
      "metadata": {
        "id": "knF46cDGTBJo"
      },
      "execution_count": null,
      "outputs": []
    },
    {
      "cell_type": "code",
      "source": [
        "data"
      ],
      "metadata": {
        "id": "g4PrIrIlTcBn"
      },
      "execution_count": null,
      "outputs": []
    },
    {
      "cell_type": "code",
      "source": [
        "# 결측치 확인 - 결측치 없음 / object, int\n",
        "\n",
        "data.info()"
      ],
      "metadata": {
        "id": "oyUCQXMATnAJ"
      },
      "execution_count": null,
      "outputs": []
    },
    {
      "cell_type": "code",
      "source": [
        "# 문제와 정답으로 분리\n",
        "# 수학 점수 - G3\n",
        "\n",
        "y = data['G3']\n",
        "\n",
        "# 문제 데이터 : school ~ absences까지 가져오기\n",
        "\n",
        "X = data.loc[:, 'school':'absences']"
      ],
      "metadata": {
        "id": "RCuptxXyT_TC"
      },
      "execution_count": null,
      "outputs": []
    },
    {
      "cell_type": "code",
      "source": [
        "X.shape, y.shape"
      ],
      "metadata": {
        "id": "D7XA2vH1WiTh"
      },
      "execution_count": null,
      "outputs": []
    },
    {
      "cell_type": "code",
      "source": [
        "# 훈련 / 평가셋 분리\n",
        "# train_test_split - 평가셋 30%, 랜덤 시드 = 20\n",
        "\n",
        "from sklearn.model_selection import train_test_split\n",
        "\n",
        "X_train, X_test, y_train, y_test = train_test_split(X, y, test_size=0.3, random_state=20)"
      ],
      "metadata": {
        "id": "xStvt04_USvN"
      },
      "execution_count": null,
      "outputs": []
    },
    {
      "cell_type": "code",
      "source": [
        "X_train.shape, X_test.shape, y_train.shape, y_test.shape"
      ],
      "metadata": {
        "id": "4tuBRD5WVlzh"
      },
      "execution_count": null,
      "outputs": []
    },
    {
      "cell_type": "markdown",
      "source": [
        "### ✅ 신경망 모델 만들기\n",
        "1. 신경망 구조 설계\n",
        "2. 신경망 학습과 평가 방법 설정\n",
        "3. 학습 및 학습 과정 시각화\n",
        "4. 모델 평가 및 예측"
      ],
      "metadata": {
        "id": "Ld9g7V5LXaHU"
      }
    },
    {
      "cell_type": "code",
      "source": [
        "# 신경망 구조 재료 가져오기(import)\n",
        "# Sequential : 신경망 모델의 뼈대를 구현하는 함수\n",
        "# 각자의 층을 선형으로 연결해주는 역할을 담당\n",
        "\n",
        "from tensorflow.keras import Sequential\n",
        "\n",
        "# Dense : 신경망의 층(뉴런의 묶음)을 설정하고 구성해주는 함수\n",
        "# Activation : 활성화 시켜주는 함수\n",
        "\n",
        "from tensorflow.keras.layers import Dense, Activation"
      ],
      "metadata": {
        "id": "MKcgHgO-XjHp"
      },
      "execution_count": null,
      "outputs": []
    },
    {
      "cell_type": "code",
      "source": [
        "# 1. 딥러닝 모델은 뼈대에 층을 하나하나 차곡차곡 쌓아주는 형태로 구현\n",
        "# 입력층 -> 중간층 -> 출력층의 순서로 구현\n",
        "\n",
        "model = Sequential()\n",
        "\n",
        "# 입력층 설정\n",
        "\n",
        "model.add(Dense(units = 4, input_dim = 1))\n",
        "# add : 층을 추가하는 함수 / units = 뉴런의 갯수 설정 / input_dim = 입력할 데이터가 가진 특성의 갯수(사용할 특성의 갯수모델은 뼈대에 층을 하나하나 차곡차곡 쌓아주는 형태로 구현)\n",
        "model.add(Activation('sigmoid'))\n",
        "\n",
        "# 출력층 설정\n",
        "model.add(Dense(units = 1))\n",
        "\n",
        "# 모델 요약\n",
        "model.summary()"
      ],
      "metadata": {
        "id": "-9jKigLTYo4N"
      },
      "execution_count": null,
      "outputs": []
    },
    {
      "cell_type": "code",
      "source": [
        "# 2. 신경망 학습 / 평가 방법 설정\n",
        "# compile() : 앞서 만든 모델이 효과적으로 구현될 수 있도록 환경 설정을 하면서 읽어오는 함수\n",
        "# 모델을 학습시키기 전 손실함수, 최적화 방법, 평가지표를 설정하는 부분\n",
        "\n",
        "model.compile(loss = 'mse', optimizer = 'SGD')\n",
        "# 손실함수 : 현재는 회귀 분석 진행 중, 평균 제곱 오차를 이용해서 에러 체크 -> mse\n",
        "# 최적화 함수 : 모델의 성능을 최적화 시키는 방법 설정 -> 확률적 경사하강법 -> SGD\n",
        "# 모델의 성능 평가지표 설정 부분 -> metrics = 'mse'"
      ],
      "metadata": {
        "id": "oxwtwr1kdE33"
      },
      "execution_count": null,
      "outputs": []
    },
    {
      "cell_type": "code",
      "source": [
        "# 3. 모델 학습\n",
        "# epochs = 학습을 얼마나 시킬 것인가?\n",
        "\n",
        "h = model.fit(X_train['studytime'], y_train, epochs = 100)"
      ],
      "metadata": {
        "collapsed": true,
        "id": "GBNnh874eLwQ"
      },
      "execution_count": null,
      "outputs": []
    },
    {
      "cell_type": "code",
      "source": [
        "h.history['loss']"
      ],
      "metadata": {
        "collapsed": true,
        "id": "NOyYJDWXgXQa"
      },
      "execution_count": null,
      "outputs": []
    },
    {
      "cell_type": "code",
      "source": [
        "plt.plot(h.history['loss'])"
      ],
      "metadata": {
        "id": "fcdQsfuugg2B"
      },
      "execution_count": null,
      "outputs": []
    },
    {
      "cell_type": "code",
      "source": [
        "# 학습된 모델을 이용해서 예측을 진행해보자\n",
        "\n",
        "model.predict(X_test['studytime'])"
      ],
      "metadata": {
        "collapsed": true,
        "id": "R60F2rg_goSl"
      },
      "execution_count": null,
      "outputs": []
    },
    {
      "cell_type": "code",
      "source": [
        "# 모델 성능 측정\n",
        "\n",
        "model.evaluate(X_test['studytime'], y_test)"
      ],
      "metadata": {
        "id": "36UZoKfkhBto"
      },
      "execution_count": null,
      "outputs": []
    },
    {
      "cell_type": "code",
      "source": [
        "# 2개의 특성을 넣어서 작동하는 모델을 만들어보자\n",
        "\n",
        "data.columns"
      ],
      "metadata": {
        "id": "eVVrE_iaH45K"
      },
      "execution_count": null,
      "outputs": []
    },
    {
      "cell_type": "code",
      "source": [
        "# X1이라는 변수에 2가지 특성을 담아주자.(traveltime, studytime)\n",
        "\n",
        "X1 = data[['traveltime', 'studytime']]\n",
        "y1 = data['G3']"
      ],
      "metadata": {
        "id": "Ex8doqmYIBil"
      },
      "execution_count": null,
      "outputs": []
    },
    {
      "cell_type": "code",
      "source": [
        "X1.shape"
      ],
      "metadata": {
        "id": "Xi8sED_AIUgb"
      },
      "execution_count": null,
      "outputs": []
    },
    {
      "cell_type": "code",
      "source": [
        "# 훈련 데이터 셋과 평가 데이터 셋 분할\n",
        "\n",
        "X1_train, X1_test, y1_train, y1_test = train_test_split(X1, y1, test_size=0.3, random_state=20)"
      ],
      "metadata": {
        "id": "y4_8GnzZIYQO"
      },
      "execution_count": null,
      "outputs": []
    },
    {
      "cell_type": "code",
      "source": [
        "X1_train.shape, X1_test.shape, y1_train.shape, y1_test.shape"
      ],
      "metadata": {
        "id": "srRrOKdtIpoY"
      },
      "execution_count": null,
      "outputs": []
    },
    {
      "cell_type": "code",
      "source": [
        "# 신경망 구조 설계\n",
        "\n",
        "model1 = Sequential() # 인공 신경망의 뼈대를 생성\n",
        "\n",
        "# 입력층 설정\n",
        "\n",
        "model1.add(Dense(units = 4, input_dim = 2)) # shape 특성의 개수가 2개였기 때문에 input_dim = 2\n",
        "model1.add(Activation('sigmoid'))\n",
        "\n",
        "# 중간층 설정\n",
        "\n",
        "model1.add(Dense(units = 2))\n",
        "model1.add(Activation('sigmoid'))\n",
        "\n",
        "# 출력층 설정\n",
        "# 출력값 1개 설정하기 위해 뉴런을 1개만 주세요\n",
        "# 활성화 함수는 생략하겠습니다.\n",
        "\n",
        "model1.add(Dense(units = 1))\n",
        "\n",
        "# 신경망 요약\n",
        "model1.summary()"
      ],
      "metadata": {
        "id": "0g2C-V8SI6L7"
      },
      "execution_count": null,
      "outputs": []
    },
    {
      "cell_type": "code",
      "source": [
        "# 모델 컴파일\n",
        "\n",
        "model1.compile(loss = 'mse', optimizer = 'SGD') # 확률적 경사 하강법(SGD)"
      ],
      "metadata": {
        "id": "F1U4KkD6KKvk"
      },
      "execution_count": null,
      "outputs": []
    },
    {
      "cell_type": "code",
      "source": [
        "# 모델 학습\n",
        "\n",
        "h1 = model1.fit(X1_train, y1_train, epochs = 100)"
      ],
      "metadata": {
        "collapsed": true,
        "id": "Qdw7_xgwKaL0"
      },
      "execution_count": null,
      "outputs": []
    },
    {
      "cell_type": "code",
      "source": [
        "model1.evaluate(X1_test, y1_test)"
      ],
      "metadata": {
        "id": "cLHotiKnKr-4"
      },
      "execution_count": null,
      "outputs": []
    },
    {
      "cell_type": "code",
      "source": [
        "# 1. 입력 특성을 전부 넣어보자\n",
        "\n",
        "X_train.info()"
      ],
      "metadata": {
        "id": "BwNTEsCRKwve"
      },
      "execution_count": null,
      "outputs": []
    },
    {
      "cell_type": "code",
      "source": [
        "X_test.info()"
      ],
      "metadata": {
        "id": "NOSL-uBmLFpw"
      },
      "execution_count": null,
      "outputs": []
    },
    {
      "cell_type": "code",
      "source": [
        "# 원핫 인코딩 진행합시다\n",
        "\n",
        "X_train_oh = pd.get_dummies(X_train).astype(int)\n",
        "X_test_oh = pd.get_dummies(X_test).astype(int)"
      ],
      "metadata": {
        "id": "-ZVRcnTWM7LU"
      },
      "execution_count": null,
      "outputs": []
    },
    {
      "cell_type": "code",
      "source": [
        "X_train_oh.shape, X_test_oh.shape"
      ],
      "metadata": {
        "id": "4iASPuPLNEci"
      },
      "execution_count": null,
      "outputs": []
    },
    {
      "cell_type": "code",
      "source": [
        "# 모든 입력 특성을 이용해서 신경망을 학습 / 평가해보자\n",
        "# 문제 데이터 X_train, X_test\n",
        "# 정답 데이터 y_train, y_test\n",
        "\n",
        "# 신경망 구축\n",
        "# 뼈대 설정\n",
        "\n",
        "model2 = Sequential()\n",
        "\n",
        "# 입력층\n",
        "# 뉴런의 갯수 4개 / input_dim = 입력 특성 갯수 맞추기\n",
        "# 활성화 함수는 sigmoid\n",
        "\n",
        "model2.add(Dense(units = 4, input_dim = 56))\n",
        "model2.add(Activation('sigmoid'))\n",
        "\n",
        "# 중간층\n",
        "# 뉴런의 갯수 2개\n",
        "# 활성화 함수는 sigmoid\n",
        "\n",
        "model2.add(Dense(units = 2))\n",
        "model2.add(Activation('sigmoid'))\n",
        "\n",
        "# 출력층\n",
        "# 뉴런의 갯수 1개\n",
        "# 활성화 함수 생략\n",
        "\n",
        "model2.add(Dense(units = 1))\n",
        "\n",
        "# 모델 요약\n",
        "model2.summary()"
      ],
      "metadata": {
        "id": "R50il_GjLMcZ"
      },
      "execution_count": null,
      "outputs": []
    },
    {
      "cell_type": "code",
      "source": [
        "# 2. 학습 / 평가 방법 설정\n",
        "\n",
        "model2.compile(loss = 'mse', optimizer = 'SGD')"
      ],
      "metadata": {
        "id": "AZtwnzxLL2iH"
      },
      "execution_count": null,
      "outputs": []
    },
    {
      "cell_type": "code",
      "source": [
        "# 3. 모델 학습\n",
        "\n",
        "h2 = model2.fit(X_train_oh, y_train, epochs = 100)"
      ],
      "metadata": {
        "id": "s_uhgBWhOtVX"
      },
      "execution_count": null,
      "outputs": []
    },
    {
      "cell_type": "code",
      "source": [
        "plt.plot(h.history['loss'], label = 'h') # 단층 퍼셉트론\n",
        "plt.plot(h1.history['loss'], label = 'h1') # 특성 2개 적용\n",
        "plt.plot(h2.history['loss'], label = 'h2') # 특성 56개 적용\n",
        "\n",
        "plt.legend()\n",
        "\n",
        "plt.show()"
      ],
      "metadata": {
        "id": "lsDtK8lBUFRg"
      },
      "execution_count": null,
      "outputs": []
    }
  ]
}