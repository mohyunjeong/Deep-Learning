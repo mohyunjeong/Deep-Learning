{
  "nbformat": 4,
  "nbformat_minor": 0,
  "metadata": {
    "colab": {
      "private_outputs": true,
      "provenance": [],
      "gpuType": "T4"
    },
    "kernelspec": {
      "name": "python3",
      "display_name": "Python 3"
    },
    "language_info": {
      "name": "python"
    },
    "accelerator": "GPU"
  },
  "cells": [
    {
      "cell_type": "markdown",
      "source": [
        "### ✅ 목표 설정\n",
        "1. 앞서 만든 NPZ 파일을 불러와서 사용해 보자\n",
        "2. CNN(합성곱 신경망)을 구현해 보자\n",
        "3. 신경망 성능 개선 및 전이 학습을 진행해 보자"
      ],
      "metadata": {
        "id": "h_SpQr5lJhih"
      }
    },
    {
      "cell_type": "code",
      "execution_count": null,
      "metadata": {
        "id": "IWfjWuhtJBot"
      },
      "outputs": [],
      "source": [
        "# 드라이브 마운트\n",
        "\n",
        "from google.colab import drive\n",
        "\n",
        "drive.mount('/content/drive')"
      ]
    },
    {
      "cell_type": "code",
      "source": [
        "!pwd"
      ],
      "metadata": {
        "id": "v8OJLFI0JzIu"
      },
      "execution_count": null,
      "outputs": []
    },
    {
      "cell_type": "code",
      "source": [
        "%cd /content/drive/MyDrive/Colab Notebooks/Deep Learning"
      ],
      "metadata": {
        "id": "0eA9ODkZJ3_g"
      },
      "execution_count": null,
      "outputs": []
    },
    {
      "cell_type": "code",
      "source": [
        "import numpy as np\n",
        "import pandas as pd\n",
        "import matplotlib.pyplot as plt"
      ],
      "metadata": {
        "id": "RgX8tVVsKLId"
      },
      "execution_count": null,
      "outputs": []
    },
    {
      "cell_type": "code",
      "source": [
        "# npz 파일 로딩\n",
        "\n",
        "data = np.load('data/cats_dogs.npz')\n",
        "data"
      ],
      "metadata": {
        "id": "rYWwB_TXKALF"
      },
      "execution_count": null,
      "outputs": []
    },
    {
      "cell_type": "code",
      "source": [
        "# 데이터 분할\n",
        "\n",
        "X_train = data['X_train']\n",
        "X_test = data['X_test']\n",
        "y_train = data['y_train']\n",
        "y_test = data['y_test']"
      ],
      "metadata": {
        "id": "nv1aJmSAKfPr"
      },
      "execution_count": null,
      "outputs": []
    },
    {
      "cell_type": "code",
      "source": [
        "X_train.shape, X_test.shape, y_train.shape, y_test.shape"
      ],
      "metadata": {
        "id": "AVT7AaOLKnVL"
      },
      "execution_count": null,
      "outputs": []
    },
    {
      "cell_type": "markdown",
      "source": [
        "### ✅ CNN 모델링\n",
        "1. 모델 설계 및 구축\n",
        "2. 학습 및 평가 방법 설정\n",
        "3. 학습 및 시각화\n",
        "4. 모델 성능 평가"
      ],
      "metadata": {
        "id": "yNNTJ3I_K2Nc"
      }
    },
    {
      "cell_type": "code",
      "source": [
        "# 재료 import\n",
        "\n",
        "from tensorflow.keras.models import Sequential\n",
        "from tensorflow.keras.layers import Conv2D, MaxPooling2D, Flatten, Dense, Dropout\n",
        "from tensorflow.keras.callbacks import EarlyStopping, ModelCheckpoint\n",
        "from tensorflow.keras.optimizers import Adam"
      ],
      "metadata": {
        "id": "fK4h7_dbK1uC"
      },
      "execution_count": null,
      "outputs": []
    },
    {
      "cell_type": "code",
      "source": [
        "# 1. 모델 설계 및 구축\n",
        "\n",
        "# 신경망 구현\n",
        "\n",
        "# 뼈대 설정\n",
        "model = Sequential()\n",
        "\n",
        "# 특성 추출부 구현\n",
        "model.add(Conv2D(filters=32,\n",
        "                 kernel_size=(3,3),\n",
        "                 padding = 'same', # padding 사용하겠다!\n",
        "                 activation='relu',\n",
        "                 input_shape=(224, 224, 3)))\n",
        "\n",
        "model.add(MaxPooling2D(pool_size=(2,2)))\n",
        "\n",
        "# ==========================================================\n",
        "\n",
        "model.add(Conv2D(filters=64,\n",
        "                 kernel_size=(3,3),\n",
        "                 padding = 'same',\n",
        "                 activation='relu'\n",
        "                 ))\n",
        "\n",
        "model.add(MaxPooling2D(pool_size=(2,2)))\n",
        "\n",
        "# ==========================================================\n",
        "\n",
        "model.add(Conv2D(filters=128,\n",
        "                 kernel_size=(3,3),\n",
        "                 padding = 'same',\n",
        "                 activation='relu'\n",
        "                 ))\n",
        "\n",
        "model.add(MaxPooling2D(pool_size=(2,2)))\n",
        "\n",
        "# ==========================================================\n",
        "\n",
        "# 특성 추출부 구현 완료\n",
        "# 전결합층 구현\n",
        "model.add(Flatten())\n",
        "\n",
        "model.add(Dense(units = 512, activation='relu'))\n",
        "model.add(Dropout(0.35))\n",
        "\n",
        "model.add(Dense(units = 256, activation='relu'))\n",
        "model.add(Dropout(0.35))\n",
        "\n",
        "model.add(Dense(units = 1, activation='sigmoid'))\n",
        "\n",
        "# 전결합층 구현 완료\n",
        "model.summary()"
      ],
      "metadata": {
        "id": "b6WY_vjNLzFL"
      },
      "execution_count": null,
      "outputs": []
    },
    {
      "cell_type": "code",
      "source": [
        "# 2. 학습 및 평가 방법 설정\n",
        "\n",
        "model.compile(optimizer=Adam(learning_rate=0.001),\n",
        "              loss='binary_crossentropy',\n",
        "              metrics=['accuracy'])"
      ],
      "metadata": {
        "id": "YWnTdWbCOHcR"
      },
      "execution_count": null,
      "outputs": []
    },
    {
      "cell_type": "code",
      "source": [
        "# 학습 조기 중단 구현\n",
        "\n",
        "f_early = EarlyStopping(monitor='val_loss',\n",
        "                      patience=5)"
      ],
      "metadata": {
        "id": "DMds-ETsOrdB"
      },
      "execution_count": null,
      "outputs": []
    },
    {
      "cell_type": "code",
      "source": [
        "# 3. 모델 학습\n",
        "\n",
        "h = model.fit(X_train, y_train,\n",
        "          epochs=100,\n",
        "          batch_size=64,\n",
        "          validation_split=0.2,\n",
        "          callbacks=[f_early])"
      ],
      "metadata": {
        "id": "IFvJosMDOwAl"
      },
      "execution_count": null,
      "outputs": []
    },
    {
      "cell_type": "markdown",
      "source": [
        "- 📌 학습 중간에 표시되는 정확도와 검증 정확도를 확인한 결과 과대적합 발생!\n",
        "- 과대적합 제어 방법인 Dropout과 학습 조기 중단을 반영해도 과대적합 해소 X\n",
        "- 데이터가 모자라서 학습이 부족할 수 있다. -> 데이터를 증강해 보자."
      ],
      "metadata": {
        "id": "myodyFpqQ3-s"
      }
    },
    {
      "cell_type": "markdown",
      "source": [
        "### ✅ 데이터 증식\n",
        "- 부족한 데이터를 원본 데이터를 이용해서 증강 시켜주는 방법\n",
        "- 일반적으로 딥러닝 모델은 데이터가 많을수록 성능이 좋아진다"
      ],
      "metadata": {
        "id": "G9B3jGFJRKEJ"
      }
    },
    {
      "cell_type": "code",
      "source": [
        "# 이미지 증식 진행 해보기\n",
        "\n",
        "from tensorflow.keras.preprocessing.image import ImageDataGenerator\n",
        "\n",
        "train_gen = ImageDataGenerator(\n",
        "    rescale=1./255, # 데이터 스케일링, 현재는 연산을 통해 MinMax 스케일링 구현\n",
        "    rotation_range=15, # 0 ~ 360도 사이의 각도 지정 -> 회전각\n",
        "    width_shift_range=0.1, # 이미지를 좌우로 이동 10% 내외\n",
        "    height_shift_range=0.1, # 이미지를 상하로 이동 10% 내외\n",
        "    zoom_range=[0.8, 2.0], # 0.8배 또는 2배로 확대 및 축소\n",
        "    shear_range=0.5, # 0.5 라디안 (호도) 내외 시계 방향으로 변형(약 28.6도)\n",
        "    horizontal_flip=True, # 좌우 반전\n",
        "    vertical_flip=True, # 상하 반전\n",
        "    fill_mode='nearest' # 보간법 : 이미지 픽셀의 빈 공간을 채워주는 방법\n",
        ")\n",
        "\n",
        "test_gen = ImageDataGenerator(rescale=1./255)"
      ],
      "metadata": {
        "id": "J-zEoPDKRTTP"
      },
      "execution_count": null,
      "outputs": []
    },
    {
      "cell_type": "code",
      "source": [
        "# train / test 경로 잡아주기\n",
        "\n",
        "train_dir = 'data/cats_and_dogs_filtered/train'\n",
        "test_dir = 'data/cats_and_dogs_filtered/test'"
      ],
      "metadata": {
        "id": "vFqkbDC3YOKi"
      },
      "execution_count": null,
      "outputs": []
    },
    {
      "cell_type": "code",
      "source": [
        "# 이미지 증식 시작\n",
        "# flow_from_directory() : 폴더의 경로 설정 및 옵션을 부여\n",
        "\n",
        "train_generator = train_gen.flow_from_directory(\n",
        "    train_dir, # 폴더 경로 지정\n",
        "    target_size=(224, 224), # 변환할 이미지 사이즈\n",
        "    batch_size=64, # 한 번에 변환 시킬 이미지 갯수\n",
        "    class_mode='binary' # 라벨 번호 0번 부터 시작 / 폴더 알파벳 순서대로 읽어옴\n",
        ")\n",
        "\n",
        "test_generator = test_gen.flow_from_directory(\n",
        "    test_dir, # 폴더 경로 지정\n",
        "    target_size=(224, 224), # 변환할 이미지 사이즈\n",
        "    batch_size=10, # 한 번에 변환 시킬 이미지 갯수\n",
        "    class_mode='binary' # 라벨 번호 0번 부터 시작 / 폴더 알파벳 순서대로 읽어옴\n",
        ")"
      ],
      "metadata": {
        "id": "JA56mRmUYod2"
      },
      "execution_count": null,
      "outputs": []
    },
    {
      "cell_type": "code",
      "source": [
        "# 라벨링 결과 확인\n",
        "\n",
        "print(train_generator.class_indices)\n",
        "print(test_generator.class_indices)"
      ],
      "metadata": {
        "id": "JTIHcqCJZ86m"
      },
      "execution_count": null,
      "outputs": []
    },
    {
      "cell_type": "code",
      "source": [
        "# 뼈대 설정\n",
        "model2 = Sequential()\n",
        "\n",
        "# 특성 추출부 구현\n",
        "\n",
        "# conv2D_1 layer\n",
        "# filter 갯수 32 / 패딩 사용 / 필터 사이즈 : (3,3) / 활성화 함수 relu / input_shape 지정\n",
        "model2.add(Conv2D(filters = 32,\n",
        "                  kernel_size = (3,3),\n",
        "                  activation = 'relu',\n",
        "                  input_shape = (224, 224, 3),\n",
        "                  padding = 'same'))\n",
        "\n",
        "# MaxPooling layer\n",
        "# pool_size = (2,2)\n",
        "model2.add(MaxPooling2D(pool_size = (2,2)))\n",
        "\n",
        "# conv2D_2 layer\n",
        "# filter 갯수 64 / 패딩 사용 / 필터 사이즈 : (3,3) / 활성화 함수 relu\n",
        "model2.add(Conv2D(filters = 64,\n",
        "                  kernel_size = (3,3),\n",
        "                  activation = 'relu',\n",
        "                  padding = 'same'))\n",
        "\n",
        "# MaxPooling layer\n",
        "# pool_size = (2,2)\n",
        "model2.add(MaxPooling2D(pool_size = (2,2)))\n",
        "\n",
        "# conv2D_3 layer\n",
        "# filter 갯수 128 / 패딩 사용 / 필터 사이즈 : (3,3) / 활성화 함수 relu\n",
        "model2.add(Conv2D(filters = 128,\n",
        "                  kernel_size = (3,3),\n",
        "                  activation = 'relu',\n",
        "                  padding = 'same'))\n",
        "\n",
        "# MaxPooling layer\n",
        "# pool_size = (2,2)\n",
        "model2.add(MaxPooling2D(pool_size = (2,2)))\n",
        "\n",
        "# 전결합층 구현\n",
        "# 데이터를 1차원으로 펴주는 층\n",
        "model2.add(Flatten())\n",
        "\n",
        "# 뉴런의 갯수 64 / 활성화 함수 : 렐루\n",
        "model2.add(Dense(units = 64, activation = 'relu'))\n",
        "\n",
        "# 드롭아웃 추가(비워두기)\n",
        "model2.add(Dropout(0.35))\n",
        "\n",
        "# 출력층 설정 (이진분류에 맞는 출력층 설정)\n",
        "model2.add(Dense(units = 1, activation = 'sigmoid'))\n",
        "\n",
        "model2.summary()"
      ],
      "metadata": {
        "id": "0lQhAZQkaZXl"
      },
      "execution_count": null,
      "outputs": []
    },
    {
      "cell_type": "code",
      "source": [
        "model2.compile(optimizer=Adam(learning_rate=0.001),\n",
        "              loss='binary_crossentropy',\n",
        "              metrics=['accuracy'])"
      ],
      "metadata": {
        "id": "agVOMroXbMJR"
      },
      "execution_count": null,
      "outputs": []
    },
    {
      "cell_type": "code",
      "source": [
        "# 학습 조기 중단 구현\n",
        "# 이미지 증식을 진행 했을 때는 학습이 들쭉날쭉하게 진행이 된다.\n",
        "# 학습 횟수와 기회를 늘려서 학습을 오래 시켜줄 필요가 있다.\n",
        "\n",
        "f_early = EarlyStopping(monitor='val_accuracy',\n",
        "                        patience=20)\n",
        "\n",
        "epochs = 100\n",
        "\n",
        "h2 = model2.fit_generator(generator = train_generator,\n",
        "                    epochs=epochs,\n",
        "                    validation_data=test_generator,\n",
        "                    callbacks=[f_early])"
      ],
      "metadata": {
        "collapsed": true,
        "id": "mzLO4GmUbaqp"
      },
      "execution_count": null,
      "outputs": []
    },
    {
      "cell_type": "markdown",
      "source": [
        "### ✅ 전이학습\n",
        "- 기존에 학습이 잘 된 모델을 이용하는 방법\n",
        "- 전이학습에는 특성 추출 방식과 미세 조정 방식이 있음"
      ],
      "metadata": {
        "id": "GrG9BmdCpls3"
      }
    },
    {
      "cell_type": "code",
      "source": [
        "# vgg16모델 import\n",
        "\n",
        "from tensorflow.keras.applications import VGG16"
      ],
      "metadata": {
        "id": "MiQrF4wDpvpD"
      },
      "execution_count": null,
      "outputs": []
    },
    {
      "cell_type": "code",
      "source": [
        "vgg16 = VGG16(\n",
        "    include_top=False, # 불러온 모델의 MLP 분류기를 쓸건가?\n",
        "    weights='imagenet', # imgenet에서 사용했던 1000개 클래스에 대응하는 가중치를 사용하겠다(사전 학습 가중치 사용)\n",
        "    input_shape=(224, 224, 3) # 이미지 사이즈\n",
        ")"
      ],
      "metadata": {
        "id": "_V3RJNvSqqrs"
      },
      "execution_count": null,
      "outputs": []
    },
    {
      "cell_type": "code",
      "source": [
        "vgg16.summary()"
      ],
      "metadata": {
        "id": "Dbhsh2BFt6CZ"
      },
      "execution_count": null,
      "outputs": []
    },
    {
      "cell_type": "code",
      "source": [
        "# 특성 추출부에 MLP를 결합해주자\n",
        "# 우리가 실습할 부분은 미세 조정 방식\n",
        "# 동결 시킬 층을 확인하기 위해 불러온 VGG16 모델의 층 이름을 확인해보자\n",
        "\n",
        "for layer in vgg16.layers:\n",
        "  print(layer.name)"
      ],
      "metadata": {
        "id": "juc5WJtHrY7F"
      },
      "execution_count": null,
      "outputs": []
    },
    {
      "cell_type": "code",
      "source": [
        "# 신경망 설계\n",
        "# 뼈대 설정\n",
        "\n",
        "transfer_model = Sequential()\n",
        "\n",
        "# 미세 조정 방식 적용\n",
        "# 분류기와 맞닿은 block5_conv3 층만 학습이 가능하도록 설정\n",
        "\n",
        "for layer in vgg16.layers :\n",
        "    if layer.name == \"lock5_conv3\" :\n",
        "        layer.trainable = True\n",
        "    else :\n",
        "        layer.trainable = False\n",
        "\n",
        "# 모델 구현\n",
        "transfer_model.add(vgg16)\n",
        "\n",
        "transfer_model.add(Flatten())\n",
        "\n",
        "transfer_model.add(Dense(units = 128, activation = 'relu'))\n",
        "\n",
        "# 출력층\n",
        "transfer_model.add(Dense(units = 1, activation = 'sigmoid'))"
      ],
      "metadata": {
        "id": "2aEvwAprr085"
      },
      "execution_count": null,
      "outputs": []
    },
    {
      "cell_type": "code",
      "source": [
        "# 모델 컴파일\n",
        "\n",
        "transfer_model.compile(optimizer='adam',\n",
        "              loss='binary_crossentropy',\n",
        "              metrics=['accuracy'])"
      ],
      "metadata": {
        "id": "kyP3NpK_s-rb"
      },
      "execution_count": null,
      "outputs": []
    },
    {
      "cell_type": "code",
      "source": [
        "# 모델 학습\n",
        "\n",
        "transfer_model.fit(X_train, y_train,\n",
        "                    epochs=10,\n",
        "                    validation_split=0.3)"
      ],
      "metadata": {
        "id": "InBvZWqPtR69"
      },
      "execution_count": null,
      "outputs": []
    },
    {
      "cell_type": "code",
      "source": [
        "transfer_model.evaluate(X_test, y_test)"
      ],
      "metadata": {
        "id": "u3lkys2dt9Iz"
      },
      "execution_count": null,
      "outputs": []
    },
    {
      "cell_type": "markdown",
      "source": [
        "### ✅ 주의점\n",
        "- 한번 학습 가능하도록 설정된 층은 가중치가 변경\n",
        "- 만약 동결층을 바꿔서 다시 학습시키고 싶다면 처음부터 모델을 새롭게 import 해와야 한다."
      ],
      "metadata": {
        "id": "L85TiRCpuQoL"
      }
    }
  ]
}