{
  "nbformat": 4,
  "nbformat_minor": 0,
  "metadata": {
    "colab": {
      "private_outputs": true,
      "provenance": []
    },
    "kernelspec": {
      "name": "python3",
      "display_name": "Python 3"
    },
    "language_info": {
      "name": "python"
    }
  },
  "cells": [
    {
      "cell_type": "markdown",
      "source": [
        "### ✅ 목표 설정\n",
        "1. 코드에서 압축 파일 다루는 법을 알아 보자.\n",
        "2. 정답이 없는 이미지 파일의 정답을 추가해 보자.\n",
        "3. NPZ 파일을 만들어 보자."
      ],
      "metadata": {
        "id": "OpoxR5kwGEO5"
      }
    },
    {
      "cell_type": "code",
      "execution_count": null,
      "metadata": {
        "id": "ZzXsuJwkF2iU"
      },
      "outputs": [],
      "source": [
        "# 드라이브 마운트\n",
        "\n",
        "from google.colab import drive\n",
        "drive.mount('/content/drive')"
      ]
    },
    {
      "cell_type": "code",
      "source": [
        "# 드라이브 위치 확인\n",
        "\n",
        "!pwd"
      ],
      "metadata": {
        "id": "ggLKo_UpGmhf"
      },
      "execution_count": null,
      "outputs": []
    },
    {
      "cell_type": "code",
      "source": [
        "# 드라이브 위치 변경\n",
        "\n",
        "%cd /content/drive/MyDrive/Colab Notebooks/Deep Learning"
      ],
      "metadata": {
        "id": "FIKonkmhG3NU"
      },
      "execution_count": null,
      "outputs": []
    },
    {
      "cell_type": "code",
      "source": [
        "# 필요한 라이브러리 가져오기\n",
        "\n",
        "import pandas as pd\n",
        "import numpy as np\n",
        "\n",
        "from matplotlib import pyplot as plt"
      ],
      "metadata": {
        "id": "Oci3PsHsHrAN"
      },
      "execution_count": null,
      "outputs": []
    },
    {
      "cell_type": "code",
      "source": [
        "# # 압축된 파일을 가져와서 압축을 풀어주자\n",
        "\n",
        "# from zipfile import ZipFile\n",
        "\n",
        "# zip_file = 'data/cats_and_dogs_filtered.zip' # 압축 파일 경로 잡아주기\n",
        "\n",
        "# with ZipFile(zip_file, 'r') as z :\n",
        "#   z.extractall(path = 'data/')\n",
        "#   # extractall() : 전체 파일 압축 해제\n",
        "#   # path : 압축을 해제하는 경로 설정"
      ],
      "metadata": {
        "id": "v5AKlpGgH1EE"
      },
      "execution_count": null,
      "outputs": []
    },
    {
      "cell_type": "markdown",
      "source": [
        "### ✅ 이미지 파일을 NPZ 파일로 변화 시켜 주자\n",
        "**NPZ 파일로 바꿔주는 이유**\n",
        "- 데이터가 복잡하고 양이 많다면 클라우드 환경(구글 코랩 / 구글 드라이브) 데이터를 업로드 하는데 매우 오랜 시간이 걸린다.\n",
        "- 볼륨이 큰 이미지 데이터를 로컬 환경(파이참 / 주피터 노트북)에서 빠르게 전처리 해주고 결과를 NPZ(numpy zip) 파일로 저장해서 빠르게 업로드 및 사용할 수 있도록 만들어줄 필요가 있다.\n",
        "- NPZ 파일을 가지고 원하는 환경에 편하게 가지고 가서 데이터를 활용할 수 있다."
      ],
      "metadata": {
        "id": "HX_ZE3POMtMT"
      }
    },
    {
      "cell_type": "code",
      "source": [
        "# os 라이브러리 / Image 라이브러리 호출\n",
        "\n",
        "import os\n",
        "from PIL import Image"
      ],
      "metadata": {
        "id": "O3GaJ_IwNi8J"
      },
      "execution_count": null,
      "outputs": []
    },
    {
      "cell_type": "code",
      "source": [
        "# 이미지 접근을 위한 경로 설정\n",
        "# 기본 경로 설정\n",
        "\n",
        "base_dir = 'data/cats_and_dogs_filtered'\n",
        "\n",
        "# os.path.join() : 파일의 경로 결함\n",
        "train_dir_cats = os.path.join(base_dir, 'train/cats')\n",
        "train_dir_dogs = os.path.join(base_dir, 'train/dogs')\n",
        "test_dir_cats = os.path.join(base_dir, 'test/cats')\n",
        "test_dir_dogs = os.path.join(base_dir, 'test/dogs')"
      ],
      "metadata": {
        "id": "b6twrimPOBLZ"
      },
      "execution_count": null,
      "outputs": []
    },
    {
      "cell_type": "code",
      "source": [
        "train_dir_dogs"
      ],
      "metadata": {
        "id": "FqiFdPUCPIIX"
      },
      "execution_count": null,
      "outputs": []
    },
    {
      "cell_type": "code",
      "source": [
        "# os.listdir() : 해당 경로에 있는 파일 명들을 리스트에 순서대로 저장\n",
        "\n",
        "train_cats_fname = os.listdir(train_dir_cats)\n",
        "train_dogs_fname = os.listdir(train_dir_dogs)\n",
        "test_cats_fname = os.listdir(test_dir_cats)\n",
        "test_dogs_fname = os.listdir(test_dir_dogs)"
      ],
      "metadata": {
        "id": "ZcvX7qsFPTrH"
      },
      "execution_count": null,
      "outputs": []
    },
    {
      "cell_type": "code",
      "source": [
        "train_cats_fname"
      ],
      "metadata": {
        "collapsed": true,
        "id": "te2JsFAhQQN-"
      },
      "execution_count": null,
      "outputs": []
    },
    {
      "cell_type": "code",
      "source": [
        "# 파일 이름과 경로 결합 테스트\n",
        "\n",
        "test_path = os.path.join(train_dir_cats, train_cats_fname[0])\n",
        "test_path"
      ],
      "metadata": {
        "id": "wQnad6w1Q6Ex"
      },
      "execution_count": null,
      "outputs": []
    },
    {
      "cell_type": "code",
      "source": [
        "# 이미지 사이즈 조정 및 배열로 변환\n",
        "\n",
        "img_shape = (224, 224)\n",
        "\n",
        "img = Image.open(test_path).resize(img_shape)\n",
        "np.array(img)"
      ],
      "metadata": {
        "id": "L_ywtQ2JRA_w"
      },
      "execution_count": null,
      "outputs": []
    },
    {
      "cell_type": "code",
      "source": [
        "# 사진을 불러와서 배열로 변경하는 함수를 만들어 보자!\n",
        "\n",
        "def load_img(folder_path, file_name, img_size_shape = (224, 224)) :\n",
        "    imgs = []\n",
        "\n",
        "    for i in file_name :\n",
        "        # 폴더 경로 + 파일명\n",
        "        path = os.path.join(folder_path, i)\n",
        "\n",
        "        # 파일 오픈 후 크기 조정\n",
        "        img = Image.open(path).resize(img_size_shape)\n",
        "\n",
        "        # 넘파이 배열 변환\n",
        "        np_img = np.array(img)\n",
        "\n",
        "        # 리스트에 저장\n",
        "        imgs.append(np_img)\n",
        "\n",
        "    return np.array(imgs)"
      ],
      "metadata": {
        "id": "tgyS5FWuR0-o"
      },
      "execution_count": null,
      "outputs": []
    },
    {
      "cell_type": "code",
      "source": [
        "# 변수 설정 후 파일을 저장하고 형태를 파악해 보자\n",
        "\n",
        "X_train_cats = load_img(train_dir_cats, train_cats_fname)\n",
        "X_train_dogs = load_img(train_dir_dogs, train_dogs_fname)\n",
        "X_test_cats = load_img(test_dir_cats, test_cats_fname)\n",
        "X_test_dogs = load_img(test_dir_dogs, test_dogs_fname)"
      ],
      "metadata": {
        "id": "VGs9yKkOTSBm"
      },
      "execution_count": null,
      "outputs": []
    },
    {
      "cell_type": "code",
      "source": [
        "X_train_cats.shape, X_train_dogs.shape, X_test_cats.shape, X_test_dogs.shape"
      ],
      "metadata": {
        "id": "7zOESj8kUlY2"
      },
      "execution_count": null,
      "outputs": []
    },
    {
      "cell_type": "code",
      "source": [
        "# 현재 훈련 데이터 / 평가 데이터는 분리 되어 있는 상태이다\n",
        "# 하나로 합쳐서 온전한 훈련용 문제 데이터, 평가용 문제 데이터로 만들어 주자\n",
        "\n",
        "X_train = np.concatenate([X_train_cats, X_train_dogs]) # 1000 + 1000 = 2000\n",
        "X_test = np.concatenate((X_test_cats, X_test_dogs)) # 500 + 500 = 1000"
      ],
      "metadata": {
        "id": "lwVWd51U_pEg"
      },
      "execution_count": null,
      "outputs": []
    },
    {
      "cell_type": "code",
      "source": [
        "# 결과 : 4차원 (이미지 데이터의 갯수, x축, y축, 색상의 채널 갯수)\n",
        "\n",
        "X_train.shape, X_test.shape"
      ],
      "metadata": {
        "id": "VDGedfi0AbZL"
      },
      "execution_count": null,
      "outputs": []
    },
    {
      "cell_type": "code",
      "source": [
        "# 현재 데이터의 문제점\n",
        "# 딥러닝의 학습 분류 : 분류(지도 학습) -> 문제 + 정답\n",
        "# 현재 문제 데이터 : X_train, X_test\n",
        "# 현재 정답 데이터 : ????\n",
        "# 정답 데이터를 만들어줘야 한다!\n",
        "# 고양이 -> 0 / 개 -> 1\n",
        "\n",
        "y_train = np.array([0] * 1000 + [1] * 1000)\n",
        "y_test = np.array([0] * 500 + [1] * 500)"
      ],
      "metadata": {
        "id": "tFRXJuobA-do"
      },
      "execution_count": null,
      "outputs": []
    },
    {
      "cell_type": "code",
      "source": [
        "y_train.shape, y_test.shape"
      ],
      "metadata": {
        "id": "Efya-T6fByVe"
      },
      "execution_count": null,
      "outputs": []
    },
    {
      "cell_type": "code",
      "source": [
        "# npz 파일 만들어 보기\n",
        "\n",
        "np.savez_compressed('data/cats_dogs.npz',  # 폴더의 경로, 파일명(확장자가 포함) 설정\n",
        "                    X_train = X_train,              # 훈련용 문제 데이터\n",
        "                    X_test = X_test,                # 평가용 문제 데이터\n",
        "                    y_train = y_train,              # 훈련용 정답 데이터\n",
        "                    y_test = y_test)                # 평가용 정답 데이터"
      ],
      "metadata": {
        "id": "EKnDV9B_Dk00"
      },
      "execution_count": null,
      "outputs": []
    }
  ]
}