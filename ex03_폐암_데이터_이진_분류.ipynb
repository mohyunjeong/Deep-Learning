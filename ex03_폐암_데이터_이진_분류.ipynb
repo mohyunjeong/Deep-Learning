{
  "nbformat": 4,
  "nbformat_minor": 0,
  "metadata": {
    "colab": {
      "private_outputs": true,
      "provenance": []
    },
    "kernelspec": {
      "name": "python3",
      "display_name": "Python 3"
    },
    "language_info": {
      "name": "python"
    }
  },
  "cells": [
    {
      "cell_type": "markdown",
      "source": [
        "### ✅ 목표 설정\n",
        "- 폐암 데이터를 활용해서 이진 분류 신경망 구현\n",
        "- 이진 분류 개념을 이해한다."
      ],
      "metadata": {
        "id": "NBYODxChcYtB"
      }
    },
    {
      "cell_type": "code",
      "execution_count": null,
      "metadata": {
        "id": "NEfHp8j5cF0Z"
      },
      "outputs": [],
      "source": [
        "# 드라이브 마운트\n",
        "\n",
        "from google.colab import drive\n",
        "\n",
        "drive.mount('/content/drive')"
      ]
    },
    {
      "cell_type": "code",
      "source": [
        "%cd /content/drive/MyDrive/Colab Notebooks/Deep Learning"
      ],
      "metadata": {
        "id": "ZnMDGRzYgGo6"
      },
      "execution_count": null,
      "outputs": []
    },
    {
      "cell_type": "code",
      "source": [
        "!ls"
      ],
      "metadata": {
        "id": "j3r72mi4gVmp"
      },
      "execution_count": null,
      "outputs": []
    },
    {
      "cell_type": "code",
      "source": [
        "# 필요한 라이브러리 불러오기\n",
        "\n",
        "import numpy as np\n",
        "import pandas as pd\n",
        "import matplotlib.pyplot as plt"
      ],
      "metadata": {
        "id": "7OWzNJZBgW8y"
      },
      "execution_count": null,
      "outputs": []
    },
    {
      "cell_type": "code",
      "source": [
        "# 데이터 불러오기\n",
        "\n",
        "data = pd.read_csv('data/ThoraricSurgery.csv', header=None)\n",
        "data\n",
        "# 현재 데이터는 컬럼명이 별도로 존재하지 않는다.\n",
        "# 이 상태로 데이터를 불러오면 첫번째 행이 컬럼 명으로 불러와진다.\n",
        "# header 옵션을 사용해서 새로 불러와보자\n",
        "# header : 데이터를 불러오면서 컬럼명을 설정해주는 키워드\n",
        "# (None)으로 설정한 경우 : 인덱스 번호가 컬럼명으로 출력된다.\n",
        "# 데이터 정보 : 0 ~ 16 컬럼 -> 속성(특성) : 종양 유형, 폐활량, 고통정도 등등\n",
        "# 17번 컬럼 : 정답 클래스(수술 후 생존 결과) - 0(사망) / 1(생존)"
      ],
      "metadata": {
        "id": "luUeLXjQghMY"
      },
      "execution_count": null,
      "outputs": []
    },
    {
      "cell_type": "code",
      "source": [
        "data.info() # 결측치 없다. 정수 / 실수"
      ],
      "metadata": {
        "id": "vXxWEvirhoOs"
      },
      "execution_count": null,
      "outputs": []
    },
    {
      "cell_type": "markdown",
      "source": [
        "### ✅ 데이터 분리\n",
        "1. 문제 데이터 / 정답 데이터 분리\n",
        "2. 훈련 데이터와 평가 데이터 분리"
      ],
      "metadata": {
        "id": "BOVTPhhah_V4"
      }
    },
    {
      "cell_type": "code",
      "source": [
        "# 1. 문제 데이터와 정답 데이터로 분리 (iloc)\n",
        "\n",
        "X = data.iloc[:, :-1]\n",
        "y = data[17]"
      ],
      "metadata": {
        "id": "DKrPBeJuiF5K"
      },
      "execution_count": null,
      "outputs": []
    },
    {
      "cell_type": "code",
      "source": [
        "# 데이터 체크(shape)\n",
        "\n",
        "X.shape, y.shape"
      ],
      "metadata": {
        "id": "5yRnGPWBiKXN"
      },
      "execution_count": null,
      "outputs": []
    },
    {
      "cell_type": "code",
      "source": [
        "# 훈련 셋과 평가 셋으로 분리(30%, 30)\n",
        "\n",
        "from sklearn.model_selection import train_test_split\n",
        "\n",
        "X_train, X_test, y_train, y_test = train_test_split(X, y, test_size=0.3, random_state=30)"
      ],
      "metadata": {
        "id": "t4DkcHR1iPD7"
      },
      "execution_count": null,
      "outputs": []
    },
    {
      "cell_type": "code",
      "source": [
        "# 데이터 체크(shape)\n",
        "\n",
        "X_train.shape, X_test.shape, y_train.shape, y_test.shape"
      ],
      "metadata": {
        "id": "oqIdij3WiRsj"
      },
      "execution_count": null,
      "outputs": []
    },
    {
      "cell_type": "markdown",
      "source": [
        "### ✅ 신경망 구축\n",
        "1. 신경망 구조 설계\n",
        "2. 학습 / 평가 방법 설정\n",
        "3. 학습 + 시각화\n",
        "4. 모델 평가"
      ],
      "metadata": {
        "id": "59kFcJwAkYZF"
      }
    },
    {
      "cell_type": "code",
      "source": [
        "# 재료 import\n",
        "# 뼈대 구성 재료\n",
        "\n",
        "from tensorflow.keras.models import Sequential\n",
        "\n",
        "# 층 구성 재료 - Dense\n",
        "\n",
        "from tensorflow.keras.layers import Dense"
      ],
      "metadata": {
        "id": "VzRxMQuzkXxu"
      },
      "execution_count": null,
      "outputs": []
    },
    {
      "cell_type": "code",
      "source": [
        "# 모델 구축 시작\n",
        "# 뼈대 설정\n",
        "model = Sequential()\n",
        "\n",
        "# 입력층 설정\n",
        "# 뉴런의 갯수 = 10 / 데이터 입력 특성 갯수 = ?(체크 잘할 것) / 시그모이드 함수\n",
        "\n",
        "model.add(Dense(10, input_dim=17, activation='sigmoid'))\n",
        "\n",
        "# 중간층 설정\n",
        "# 뉴런의 갯수 = 6 / 시그모이드 함수\n",
        "\n",
        "model.add(Dense(6, activation='sigmoid'))\n",
        "\n",
        "# 뉴런의 갯수 = 4 / 시그모이드 함수\n",
        "\n",
        "model.add(Dense(4, activation='sigmoid'))\n",
        "\n",
        "# 출력층 설정\n",
        "# 뉴런의 갯수 = 1 / 시그모이드 함수\n",
        "\n",
        "model.add(Dense(1, activation='sigmoid'))\n",
        "# 현재 우리가 진행하는 분석 방법은 어떤 방법인가? -> 분류 -> 이진분류\n",
        "# 출력층의 구조는 우리가 에측하는 분석 방법에 따라 구조가 달라진다.\n",
        "# 이진 분류에서는 활성화 함수 sigmoid / 뉴런의 갯수 1\n",
        "# 회귀 분석에서는 활성화 함수 생략 / 뉴런의 갯수 1\n",
        "\n",
        "# 모델 요약\n",
        "\n",
        "model.summary()"
      ],
      "metadata": {
        "id": "LEaT65Qck0ra"
      },
      "execution_count": null,
      "outputs": []
    },
    {
      "cell_type": "code",
      "source": [],
      "metadata": {
        "id": "sMrQkR23lBQw"
      },
      "execution_count": null,
      "outputs": []
    }
  ]
}