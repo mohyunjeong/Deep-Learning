{
  "nbformat": 4,
  "nbformat_minor": 0,
  "metadata": {
    "colab": {
      "private_outputs": true,
      "provenance": []
    },
    "kernelspec": {
      "name": "python3",
      "display_name": "Python 3"
    },
    "language_info": {
      "name": "python"
    }
  },
  "cells": [
    {
      "cell_type": "markdown",
      "source": [
        "✅ 구글 드라이브 마운트(연동)"
      ],
      "metadata": {
        "id": "xWxlbJVLieqv"
      }
    },
    {
      "cell_type": "code",
      "execution_count": null,
      "metadata": {
        "id": "-HQlRyzrhgxI"
      },
      "outputs": [],
      "source": [
        "from google.colab import drive\n",
        "\n",
        "drive.mount('/content/drive')"
      ]
    },
    {
      "cell_type": "markdown",
      "source": [
        "- 📌 작업 폴더로 이동"
      ],
      "metadata": {
        "id": "MYRJTx4LjxUR"
      }
    },
    {
      "cell_type": "code",
      "source": [
        "%cd /content/drive/MyDrive/Colab Notebooks/Deep Learning"
      ],
      "metadata": {
        "id": "xe1_UYZsiXO9"
      },
      "execution_count": null,
      "outputs": []
    },
    {
      "cell_type": "code",
      "source": [
        "!ls"
      ],
      "metadata": {
        "id": "Fp13HRuliZxg"
      },
      "execution_count": null,
      "outputs": []
    },
    {
      "cell_type": "markdown",
      "source": [
        "# ✅ Keras로 신경망 설계\n",
        "- Sequential() : 신경망을 초기화\n",
        "- Dense() : 신경망 층을 정의\n",
        "- add() : 정의된 신경망 층을 초기화한 신경망에 추가\n",
        "- Activation() : 활성화 함수층 정의\n",
        "- compile() : 설계된 신경망을 학습할 수 있는 형태로 변환\n",
        "\n",
        "- fit() : 학습\n",
        "\n",
        "- predict() : 추론\n",
        "- evaluate() : 평가"
      ],
      "metadata": {
        "id": "qxyPnnTjl8xP"
      }
    },
    {
      "cell_type": "markdown",
      "source": [
        "# ✅ AND 논리 학습 모델을 설계하고 추론\n",
        "\n",
        "<pre>\n",
        "A  B  AND\n",
        "0  0   0\n",
        "0  1   0\n",
        "1  0   0\n",
        "1  1   1\n",
        "</pre>"
      ],
      "metadata": {
        "id": "8e-fnKY2m1L0"
      }
    },
    {
      "cell_type": "markdown",
      "source": [
        "- 📌 입력 데이터 정의"
      ],
      "metadata": {
        "id": "nhlJueMKnfsO"
      }
    },
    {
      "cell_type": "code",
      "source": [
        "X = [[0, 0], [0, 1], [1, 0], [1, 1]]\n",
        "y = [0, 0, 0, 1]"
      ],
      "metadata": {
        "id": "tG7K6vfriajd"
      },
      "execution_count": null,
      "outputs": []
    },
    {
      "cell_type": "markdown",
      "source": [
        "- 📌 신경망 설계"
      ],
      "metadata": {
        "id": "6zNsL0Bmn52K"
      }
    },
    {
      "cell_type": "code",
      "source": [
        "import numpy as np\n",
        "\n",
        "np.array(X).shape, np.array(y).shape\n",
        "# 0번 인덱스 : 데이터의 수\n",
        "# 1번 인덱스 : 특성의 수 -> input_dim -> 입력의 수"
      ],
      "metadata": {
        "id": "Laj7ZLiFpXlT"
      },
      "execution_count": null,
      "outputs": []
    },
    {
      "cell_type": "code",
      "source": [
        "from tensorflow.keras.models import Sequential\n",
        "from tensorflow.keras.layers import Dense, Activation\n",
        "\n",
        "# 신경망 초기화\n",
        "\n",
        "model1 = Sequential()\n",
        "\n",
        "# add() : 신경망에 정의된 층을 추가\n",
        "# Dense() : 신경망 층을 정의\n",
        "#   - units : 출력의 수 (퍼셉트론 수)\n",
        "#   - input_dim : 입력의 수 (특성 수) # 2개\n",
        "\n",
        "model1.add(Dense(units=1, input_dim=2))\n",
        "model1.add(Activation(\"sigmoid\"))\n",
        "\n",
        "# summary() : 설계된 신경망의 구조를 출력하는 함수\n",
        "\n",
        "model1.summary()"
      ],
      "metadata": {
        "id": "bXvUZbwjiauS"
      },
      "execution_count": null,
      "outputs": []
    },
    {
      "cell_type": "markdown",
      "source": [
        "- 📌 퍼셉트론 2개로 신경망 설계"
      ],
      "metadata": {
        "id": "xijVVC2TuouQ"
      }
    },
    {
      "cell_type": "code",
      "source": [
        "model2 = Sequential()\n",
        "\n",
        "# (1)\n",
        "# 입력 데이터의 크기 (input_dim)은 첫번째 층에만 정의해주면 된다\n",
        "\n",
        "model2.add(Dense(units=1, input_dim=2))\n",
        "model2.add(Activation(\"sigmoid\"))\n",
        "\n",
        "# (2)\n",
        "\n",
        "model2.add(Dense(units=1))\n",
        "model2.add(Activation(\"sigmoid\"))\n",
        "\n",
        "model2.summary()"
      ],
      "metadata": {
        "id": "f1PC5kuGia4p"
      },
      "execution_count": null,
      "outputs": []
    },
    {
      "cell_type": "markdown",
      "source": [
        "- 📌 퍼셉트론 5개로 구성된 신경망"
      ],
      "metadata": {
        "id": "n3pFM8KpwMyI"
      }
    },
    {
      "cell_type": "code",
      "source": [
        "model3 = Sequential()\n",
        "\n",
        "# (1)\n",
        "\n",
        "model3.add(Dense(units=4, input_dim=2))\n",
        "model3.add(Activation(\"sigmoid\"))\n",
        "\n",
        "# (2)\n",
        "\n",
        "model3.add(Dense(units=1))\n",
        "model3.add(Activation(\"sigmoid\"))\n",
        "\n",
        "model3.summary() # w : 12, b : 5"
      ],
      "metadata": {
        "id": "LctPBoGqia-L"
      },
      "execution_count": null,
      "outputs": []
    },
    {
      "cell_type": "markdown",
      "source": [
        "- 📌 컴파일\n",
        "    - loss : 손실함수\n",
        "        - 회귀 분석 : mse 또는 mean_squard_error\n",
        "        - 이진 분류 : binary_crossentropy\n",
        "        - 다진 분류 : categorical_crossentropy\n",
        "    - optimizer : 최적화 함수 (adam)\n",
        "    - metrics : 평가 함수 (오차, 정확도)\n"
      ],
      "metadata": {
        "id": "WQ8qQfFJy7xX"
      }
    },
    {
      "cell_type": "code",
      "source": [
        "model1.compile(loss=\"binary_crossentropy\", optimizer=\"adam\", metrics=[\"accuracy\"])\n",
        "model2.compile(loss=\"binary_crossentropy\", optimizer=\"adam\", metrics=[\"accuracy\"])\n",
        "model3.compile(loss=\"binary_crossentropy\", optimizer=\"adam\", metrics=[\"accuracy\"])"
      ],
      "metadata": {
        "id": "nIRqtO34x3Ed"
      },
      "execution_count": null,
      "outputs": []
    },
    {
      "cell_type": "markdown",
      "source": [
        "- 📌 학습\n",
        "    - epochs : 학습 반복수\n",
        "    - batch_size : 학습에 사용할 데이터 수"
      ],
      "metadata": {
        "id": "ID0H-D6x0nZt"
      }
    },
    {
      "cell_type": "code",
      "source": [
        "h1 = model1.fit(X, y, epochs=1000, batch_size=4)"
      ],
      "metadata": {
        "id": "5J94oD8G1E-U"
      },
      "execution_count": null,
      "outputs": []
    },
    {
      "cell_type": "markdown",
      "source": [
        "- 📌 추론"
      ],
      "metadata": {
        "id": "IxsaVlg02T_P"
      }
    },
    {
      "cell_type": "code",
      "source": [
        "pred = model1.predict([[1, 1]]) # 0.5 보다 크면 -> 1\n",
        "pred"
      ],
      "metadata": {
        "id": "MZAMcfmY2XFa"
      },
      "execution_count": null,
      "outputs": []
    }
  ]
}