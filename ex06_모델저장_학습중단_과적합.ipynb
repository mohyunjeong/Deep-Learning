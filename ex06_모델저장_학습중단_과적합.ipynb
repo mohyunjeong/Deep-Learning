{
  "nbformat": 4,
  "nbformat_minor": 0,
  "metadata": {
    "colab": {
      "private_outputs": true,
      "provenance": []
    },
    "kernelspec": {
      "name": "python3",
      "display_name": "Python 3"
    },
    "language_info": {
      "name": "python"
    }
  },
  "cells": [
    {
      "cell_type": "markdown",
      "source": [
        "### ✅ 학습 목표\n",
        "- 베스트 모델 저장하기 / 불러오기\n",
        "- 학습 중단 기능\n",
        "- 과적합 방지 - Dropout"
      ],
      "metadata": {
        "id": "YaDq5bqzuSVE"
      }
    },
    {
      "cell_type": "markdown",
      "source": [
        "### ✅ 베스트 모델 저장하기 / 학습 중단"
      ],
      "metadata": {
        "id": "3jgUmJblCXht"
      }
    },
    {
      "cell_type": "markdown",
      "source": [
        "- 📌 손글씨 이미지 데이터셋\n",
        "    - 훈련 데이터 6만개, 테스트 데이터 1만개\n",
        "    - 0 ~ 9까지 숫자 이미지에 대한 라벨링"
      ],
      "metadata": {
        "id": "dsmS-Mc9-hAZ"
      }
    },
    {
      "cell_type": "code",
      "source": [
        "from tensorflow.keras.datasets import mnist\n",
        "\n",
        "(X_train, y_train), (X_test, y_test) = mnist.load_data()\n",
        "\n",
        "X_train.shape, X_test.shape"
      ],
      "metadata": {
        "id": "qOlHMv4ruRyv"
      },
      "execution_count": null,
      "outputs": []
    },
    {
      "cell_type": "markdown",
      "source": [
        "- 📌 데이터 확인"
      ],
      "metadata": {
        "id": "b0cVOVZV-ube"
      }
    },
    {
      "cell_type": "code",
      "execution_count": null,
      "metadata": {
        "id": "CSuC4vqwuP6y"
      },
      "outputs": [],
      "source": [
        "import matplotlib.pyplot as plt\n",
        "\n",
        "print(y_train[10])\n",
        "\n",
        "plt.imshow(X_train[10], cmap='gray')\n",
        "plt.show()"
      ]
    },
    {
      "cell_type": "markdown",
      "source": [
        "- 📌 이미지(2차원) -> Dense(1차원) 변환"
      ],
      "metadata": {
        "id": "CFJlwv6aAF6w"
      }
    },
    {
      "cell_type": "code",
      "source": [
        "X_train = X_train.reshape(-1, 28*28)\n",
        "X_test = X_test.reshape(-1, 28*28)\n",
        "\n",
        "X_train.shape, X_test.shape"
      ],
      "metadata": {
        "id": "JDwT-XLpALcN"
      },
      "execution_count": null,
      "outputs": []
    },
    {
      "cell_type": "markdown",
      "source": [
        "- 📌 스케일링 : 0 ~ 255 -> 0.0 ~ 1.0"
      ],
      "metadata": {
        "id": "0cYqB5sUAoki"
      }
    },
    {
      "cell_type": "code",
      "source": [
        "X_train = X_train / 255.0\n",
        "X_test = X_test / 255.0"
      ],
      "metadata": {
        "id": "10K8IpSuAvDo"
      },
      "execution_count": null,
      "outputs": []
    },
    {
      "cell_type": "code",
      "source": [
        "X_train"
      ],
      "metadata": {
        "id": "hH-oyQFXA5qv"
      },
      "execution_count": null,
      "outputs": []
    },
    {
      "cell_type": "markdown",
      "source": [
        "- 📌 라벨 데이터는 원핫 인코딩(다진 분류)"
      ],
      "metadata": {
        "id": "hOVSdQ1yBWez"
      }
    },
    {
      "cell_type": "code",
      "source": [
        "from keras.utils import to_categorical\n",
        "\n",
        "y_train_en = to_categorical(y_train)\n",
        "y_test_en = to_categorical(y_test)\n",
        "\n",
        "y_train_en.shape, y_test_en.shape"
      ],
      "metadata": {
        "id": "-0VuFhzoBccQ"
      },
      "execution_count": null,
      "outputs": []
    },
    {
      "cell_type": "markdown",
      "source": [
        "- 📌 신경망 설계\n"
      ],
      "metadata": {
        "id": "Y9vyguVVCxT2"
      }
    },
    {
      "cell_type": "code",
      "source": [
        "from tensorflow.keras.models import Sequential\n",
        "from tensorflow.keras.layers import Dense\n",
        "\n",
        "model1 = Sequential()\n",
        "\n",
        "# input_dim : 입력 데이터의 크기 (X_train의 크기)\n",
        "\n",
        "model1.add(Dense(512, activation='relu', input_dim=28*28))\n",
        "\n",
        "# 10 -> 라벨 데이터의 크기 (y_train의 크기)\n",
        "\n",
        "model1.add(Dense(10, activation='softmax'))\n",
        "\n",
        "model1.summary()"
      ],
      "metadata": {
        "id": "2x6NID_GCz0R"
      },
      "execution_count": null,
      "outputs": []
    },
    {
      "cell_type": "code",
      "source": [
        "model1.compile(optimizer='adam', loss='categorical_crossentropy', metrics=['accuracy']) # categorical_crossentropy -> 다중분류"
      ],
      "metadata": {
        "id": "xvL4ogPgD0m5"
      },
      "execution_count": null,
      "outputs": []
    },
    {
      "cell_type": "markdown",
      "source": [
        "- 📌 베스트 모델 저장, 학습 중단 설정\n",
        "    - 베스트 모델 : 학습 중에서 설정한 기준 값이 가장 좋은 모델을 저장 (ModelCheckPoint())\n",
        "    - 학습 중단 : 학습 중에 설정한 기준 값이 만족하는 경우에 학습을 중지 시키는 기능 (EaryStopping())"
      ],
      "metadata": {
        "id": "Mt5_5i_6KIXO"
      }
    },
    {
      "cell_type": "code",
      "source": [
        "from google.colab import drive\n",
        "\n",
        "drive.mount('/content/drive')"
      ],
      "metadata": {
        "id": "bmiwVlaaLMcz"
      },
      "execution_count": null,
      "outputs": []
    },
    {
      "cell_type": "code",
      "source": [
        "%cd /content/drive/MyDrive/Colab Notebooks/Deep Learning"
      ],
      "metadata": {
        "id": "hJEMp9TSLgpC"
      },
      "execution_count": null,
      "outputs": []
    },
    {
      "cell_type": "code",
      "source": [
        "from keras.callbacks import ModelCheckpoint, EarlyStopping\n",
        "\n",
        "import os\n",
        "\n",
        "# 모델을 저장할 폴더\n",
        "\n",
        "model_dir = './model/'\n",
        "\n",
        "# 만약 해당 폴더가 없으면 생성\n",
        "\n",
        "if not os.path.exists(model_dir):\n",
        "    os.mkdir(model_dir)\n",
        "\n",
        "# {epoch:02d} : epoch 변수의 값을 2자리 정수로 설정\n",
        "# {loss:.4f} : loss 변수의 값을 소수점 4째 자리까지로 설정\n",
        "# {val_loss:.4f} : val_loss 변수의 값을 소수점 4째 자리까지로 설정\n",
        "# 파일명 예시 : model1_20_0.526_0.406.hdf5\n",
        "\n",
        "file_name = model_dir + \"model1_{epoch:02d}_{loss:.4f}_{val_loss:.4f}.hdf5\"\n",
        "\n",
        "# 베스트 모델 저장 설정\n",
        "# monitor : 베스트 모델을 결정하는 기준값\n",
        "# save_best_only=True : monitor에서 설정한 기준값이 더 나아지는 경우에만 저장\n",
        "\n",
        "mc = ModelCheckpoint(file_name, monitor='val_loss', save_best_only=True) # val_loss -> 과대적합이 안걸리는 가장 바람직한 방법\n",
        "\n",
        "# 학습 중단 기능 : 얼마만큼 학습 횟수를 설정할지 알 수 없기 때문에 학습이 더 나아지지 않는 경우에 자동으로 중지\n",
        "# monitor : 학습 중단을 결정하는 기준값 (가능하면 ModelCheckpoint와 동일한 값을 권장)\n",
        "# patience : 학습이 더 나아지지 않더라도 기다려주는 횟수\n",
        "\n",
        "es = EarlyStopping(monitor='val_loss', patience=5)"
      ],
      "metadata": {
        "id": "q1BJVlFqKsu3"
      },
      "execution_count": null,
      "outputs": []
    },
    {
      "cell_type": "code",
      "source": [
        "# validation_data : 테스트 데이터가 있는 경우\n",
        "# validation_split : 테스트 데이터가 없는 경우 -> 훈련 데이터에서 비율만큼 가져온다\n",
        "# callbacks : 반복 시 마다 호출되어 실행\n",
        "\n",
        "h1 = model1.fit(X_train, y_train_en, epochs=20, batch_size=128, validation_data=(X_test, y_test_en), callbacks=[mc, es])"
      ],
      "metadata": {
        "id": "l8w1fX-JELMx"
      },
      "execution_count": null,
      "outputs": []
    },
    {
      "cell_type": "code",
      "source": [
        "import matplotlib.pyplot as plt\n",
        "\n",
        "plt.plot(h1.history['accuracy'], label=\"train\")\n",
        "plt.plot(h1.history['val_accuracy'], label=\"test\")\n",
        "\n",
        "plt.legend()\n",
        "plt.show()\n",
        "\n",
        "plt.plot(h1.history['loss'], label=\"train\")\n",
        "plt.plot(h1.history['val_loss'], label=\"test\")\n",
        "\n",
        "plt.legend()\n",
        "plt.show()"
      ],
      "metadata": {
        "id": "jnh1o79oJN_Y"
      },
      "execution_count": null,
      "outputs": []
    },
    {
      "cell_type": "markdown",
      "source": [
        "- 📌 모델 불러오기"
      ],
      "metadata": {
        "id": "_2VGi1V_RX63"
      }
    },
    {
      "cell_type": "code",
      "source": [
        "from keras.models import load_model\n",
        "\n",
        "# model_dir = './model/'\n",
        "\n",
        "file_name = model_dir + \"modelmodel1_01_0.0004_0.0666.hdf5\"\n",
        "\n",
        "model2 = load_model(file_name)\n",
        "\n",
        "model2.evaluate(X_train, y_train_en)\n",
        "model2.evaluate(X_test, y_test_en)"
      ],
      "metadata": {
        "id": "I4-ne7D8RbGo"
      },
      "execution_count": null,
      "outputs": []
    },
    {
      "cell_type": "markdown",
      "source": [
        "- 📌 예측하기"
      ],
      "metadata": {
        "id": "Js6Qm0ZmEe2V"
      }
    },
    {
      "cell_type": "code",
      "source": [
        "idx = 200\n",
        "\n",
        "pred = model2.predict(X_test[idx:idx+1])\n",
        "\n",
        "print(pred)\n",
        "\n",
        "# 가장 큰 값을 갖는 인덱스를 반환\n",
        "\n",
        "print(pred.argmax())\n",
        "\n",
        "# 실제 값\n",
        "\n",
        "print(y_test[idx])"
      ],
      "metadata": {
        "id": "rPT6DlNCEiGJ"
      },
      "execution_count": null,
      "outputs": []
    },
    {
      "cell_type": "code",
      "source": [
        "import matplotlib.pyplot as plt\n",
        "\n",
        "plt.imshow(X_test[idx].reshape(28, 28), cmap='gray')\n",
        "plt.show()"
      ],
      "metadata": {
        "id": "flft061hFUtk"
      },
      "execution_count": null,
      "outputs": []
    },
    {
      "cell_type": "code",
      "source": [
        "# 잘못 예측한 데이터 출력\n",
        "\n",
        "pred = model2.predict(X_test)\n",
        "\n",
        "co = 0\n",
        "failed = 0\n",
        "\n",
        "for i in pred :\n",
        "    if pred[co].argmax() != y_test[co] :\n",
        "        failed += 1\n",
        "        print(co)\n",
        "    co += 1\n",
        "\n",
        "print(\"잘못 예측한 데이터 수 : \", failed)"
      ],
      "metadata": {
        "id": "x_Out2O4H6Ar"
      },
      "execution_count": null,
      "outputs": []
    },
    {
      "cell_type": "markdown",
      "source": [
        "- 📌 내 손글씨 인식하기\n",
        "    - 모델을 만들 때 수행했던 전처리를 그대로 해주어야 한다"
      ],
      "metadata": {
        "id": "Y64_iUD0LWce"
      }
    },
    {
      "cell_type": "code",
      "source": [
        "# 이미지 불러오기\n",
        "\n",
        "import PIL.Image as pimg\n",
        "import numpy as np\n",
        "import matplotlib.pyplot as plt\n",
        "\n",
        "img = pimg.open('./data/2.png').convert('L')\n",
        "# convert('L') : 컬러 -> 흑백 이미지로 변환\n",
        "\n",
        "plt.imshow(img, cmap = \"gray\")\n",
        "plt.show()"
      ],
      "metadata": {
        "id": "SFwI-FXTLbLZ"
      },
      "execution_count": null,
      "outputs": []
    },
    {
      "cell_type": "markdown",
      "source": [
        "- 📌 데이터의 형태 : (1,784)\n",
        "- 📌 데이터 값 : 0.0 ~ 1.0"
      ],
      "metadata": {
        "id": "TvxX6O4mO_sl"
      }
    },
    {
      "cell_type": "code",
      "source": [
        "img = np.array(img)\n",
        "\n",
        "img.shape"
      ],
      "metadata": {
        "id": "D8JuceEzO97D"
      },
      "execution_count": null,
      "outputs": []
    },
    {
      "cell_type": "code",
      "source": [
        "testimg = img.reshape(-1, 28 * 28)\n",
        "\n",
        "testimg.shape"
      ],
      "metadata": {
        "id": "BWCZlJNIPRIA"
      },
      "execution_count": null,
      "outputs": []
    },
    {
      "cell_type": "code",
      "source": [
        "testimg = testimg / 255.0\n",
        "testimg"
      ],
      "metadata": {
        "id": "TWZSkEQyQ9YU"
      },
      "execution_count": null,
      "outputs": []
    },
    {
      "cell_type": "code",
      "source": [
        "pred = model2.predict(testimg)\n",
        "\n",
        "print(pred)\n",
        "print(pred.argmax())"
      ],
      "metadata": {
        "id": "efsQdIuVT7kf"
      },
      "execution_count": null,
      "outputs": []
    },
    {
      "cell_type": "markdown",
      "source": [
        "- 📌 과적합 방지\n",
        "    - Dropout()\n",
        "        - 각 층의 퍼셉트론의 수를 설정한 비율만큼 제한 -> 각 반복마다 적용되는 퍼셉트론은 랜덤으로 선택\n",
        "        - 제한 비율을 0.5 이하로 설정 -> 0.5 이상이면 해당 층의 신경망이 가지는 특성이 효과적으로 적용되지 못하기 때문\n",
        "        - 퍼셉트론의 수가 감소 -> 파라미터의 수가 감소 -> 복잡도 감소 -> 과적합 감소"
      ],
      "metadata": {
        "id": "VKPkvIDVV4Yz"
      }
    },
    {
      "cell_type": "code",
      "source": [
        "import pandas as pd\n",
        "\n",
        "# 특성 60개로 구성\n",
        "# 암석에 음파를 쏴서 반사되는 파를 확인해서 금속을 탐지\n",
        "# header = None : 원본 파일에 열 이름이 없는 데이터\n",
        "\n",
        "sonar = pd.read_csv('./data/sonar.csv', header = None)\n",
        "sonar.head()"
      ],
      "metadata": {
        "id": "DeKY4bK3YqEC"
      },
      "execution_count": null,
      "outputs": []
    },
    {
      "cell_type": "code",
      "source": [
        "# 라벨 데이터 확인\n",
        "\n",
        "sonar[60].value_counts()"
      ],
      "metadata": {
        "id": "8XtcVVaeWu1i"
      },
      "execution_count": null,
      "outputs": []
    },
    {
      "cell_type": "code",
      "source": [
        "import tensorflow as tf\n",
        "\n",
        "# 다른 컴퓨터에서 작업을 하더라도 w와 b 값이 같은 값으로 초기화\n",
        "# 모델을 개선했을 때 모델의 성능을 판별\n",
        "\n",
        "seed = 0\n",
        "\n",
        "tf.random.set_seed(seed)\n",
        "np.random.seed(seed)"
      ],
      "metadata": {
        "id": "fbyxp6qXY3Pg"
      },
      "execution_count": null,
      "outputs": []
    },
    {
      "cell_type": "code",
      "source": [
        "# 특성 / 라벨 데이터 분리\n",
        "\n",
        "X_train = sonar.iloc[:, :60]\n",
        "y_train = sonar.iloc[:, 60]\n",
        "\n",
        "X_train.shape, y_train.shape"
      ],
      "metadata": {
        "id": "KNMz_3ReZFpk"
      },
      "execution_count": null,
      "outputs": []
    },
    {
      "cell_type": "markdown",
      "source": [
        "- 📌 라벨 데이터 인코딩\n",
        "    - M, R의 문자 형태로 되어 있는 라벨을 숫자로 변환 -> 라벨 인코딩\n",
        "    - 0부터 숫자가 알파벳 순으로 부여"
      ],
      "metadata": {
        "id": "BeFJqer1cc-h"
      }
    },
    {
      "cell_type": "code",
      "source": [
        "from sklearn.preprocessing import LabelEncoder\n",
        "\n",
        "encoder = LabelEncoder()\n",
        "\n",
        "encoder.fit(y_train)\n",
        "\n",
        "y_train_en = encoder.transform(y_train)"
      ],
      "metadata": {
        "id": "ZN2BOLBhcyoL"
      },
      "execution_count": null,
      "outputs": []
    },
    {
      "cell_type": "code",
      "source": [
        "y_train_en\n",
        "\n",
        "# M -> 0, R -> 1"
      ],
      "metadata": {
        "id": "hfpIZDyrdZuo"
      },
      "execution_count": null,
      "outputs": []
    },
    {
      "cell_type": "code",
      "source": [
        "# 훈련, 검증 데이터\n",
        "\n",
        "from sklearn.model_selection import train_test_split\n",
        "\n",
        "X_train, X_val, y_train, y_val = train_test_split(X_train, y_train_en, test_size=0.2, random_state=seed)\n",
        "\n",
        "X_train.shape, y_train.shape, X_val.shape, y_val.shape"
      ],
      "metadata": {
        "id": "eboK1t60ZQVf"
      },
      "execution_count": null,
      "outputs": []
    },
    {
      "cell_type": "markdown",
      "source": [
        "- 📌 모델 설계\n",
        "- 📌 컴파일\n",
        "- 📌 학습 (베스트 모델 저장, 학습 중단)\n",
        "- 📌 저장된 모델 불러오기\n",
        "- 📌 불러온 모델로 예측하기 (X_test)"
      ],
      "metadata": {
        "id": "eCueSZJdd5Wj"
      }
    },
    {
      "cell_type": "code",
      "source": [
        "from tensorflow.keras.models import Sequential\n",
        "from tensorflow.keras.layers import Dense, Dropout\n",
        "\n",
        "model3 = Sequential()\n",
        "\n",
        "# 입력층\n",
        "\n",
        "model3.add(Dense(512, activation='relu', input_dim=60))\n",
        "\n",
        "# 은닉층\n",
        "\n",
        "model3.add(Dense(256, activation='relu'))\n",
        "model3.add(Dense(128, activation='relu'))\n",
        "model3.add(Dense(64, activation='relu'))\n",
        "\n",
        "# 인코딩 : 퍼셉트론 수 (특성 수)를 감소 시켜가는 방식 (압축, 정보 요약, 중요 특성 추출 / 선택)\n",
        "# 디코딩 : 퍼셉트론 수 (특성 수)를 증가 시켜가는 방식 (복원)\n",
        "\n",
        "# 출력층\n",
        "# 원핫 인코딩 하지 않았음 -> 퍼셉트론 수 1, 활성화 함수 sigmoid\n",
        "# 원핫 인코딩 했다면 -> 퍼셉트론 수 2, 활성화 함수 softmax\n",
        "\n",
        "model3.add(Dense(1, activation='sigmoid'))\n",
        "\n",
        "model3.summary()"
      ],
      "metadata": {
        "id": "Voe61Kxwd4J8"
      },
      "execution_count": null,
      "outputs": []
    },
    {
      "cell_type": "code",
      "source": [
        "model3.compile(optimizer='adam', loss='binary_crossentropy', metrics=['accuracy'])"
      ],
      "metadata": {
        "id": "U0gdZpq-jB9b"
      },
      "execution_count": null,
      "outputs": []
    },
    {
      "cell_type": "code",
      "source": [
        "from keras.callbacks import ModelCheckpoint, EarlyStopping\n",
        "\n",
        "mc = ModelCheckpoint('./model/model2_{epoch:02d}_{loss:.4f}_{val_loss:.4f}.hdf5', monitor='val_loss', save_best_only=True)\n",
        "\n",
        "es = EarlyStopping(monitor='val_loss', patience=10)"
      ],
      "metadata": {
        "id": "Q0Oy1VvelNW4"
      },
      "execution_count": null,
      "outputs": []
    },
    {
      "cell_type": "code",
      "source": [
        "# h2 = model3.fit(X_train, y_train, epochs=200, batch_size=16, validation_data=(X_val, y_val), callbacks=[mc, es])\n",
        "\n",
        "h2 = model3.fit(X_train, y_train, epochs=200, batch_size=16, validation_data=(X_val, y_val))"
      ],
      "metadata": {
        "id": "bi5g1GsajWCS"
      },
      "execution_count": null,
      "outputs": []
    },
    {
      "cell_type": "code",
      "source": [
        "import matplotlib.pyplot as plt\n",
        "\n",
        "plt.plot(h2.history['accuracy'], label=\"train\")\n",
        "plt.plot(h2.history['val_accuracy'], label=\"test\")\n",
        "\n",
        "plt.legend()\n",
        "plt.show()\n",
        "\n",
        "plt.plot(h2.history['loss'], label=\"train\")\n",
        "plt.plot(h2.history['val_loss'], label=\"test\")\n",
        "\n",
        "plt.legend()\n",
        "plt.show()"
      ],
      "metadata": {
        "id": "yMdyDtF0kUeT"
      },
      "execution_count": null,
      "outputs": []
    },
    {
      "cell_type": "code",
      "source": [
        "from tensorflow.keras.models import Sequential\n",
        "from tensorflow.keras.layers import Dense, Dropout\n",
        "\n",
        "model4 = Sequential()\n",
        "\n",
        "model4.add(Dense(512, activation='relu', input_dim=60))\n",
        "\n",
        "model4.add(Dropout(0.3))\n",
        "model4.add(Dense(256, activation='relu'))\n",
        "model4.add(Dropout(0.3))\n",
        "model4.add(Dense(128, activation='relu'))\n",
        "model4.add(Dropout(0.3))\n",
        "model4.add(Dense(64, activation='relu'))\n",
        "\n",
        "model4.add(Dense(1, activation='sigmoid'))\n",
        "\n",
        "model4.summary()"
      ],
      "metadata": {
        "id": "tqeZ0MgaoBOm"
      },
      "execution_count": null,
      "outputs": []
    },
    {
      "cell_type": "code",
      "source": [
        "model4.compile(optimizer='adam', loss='binary_crossentropy', metrics=['accuracy'])"
      ],
      "metadata": {
        "id": "h_GSqkW7s1R_"
      },
      "execution_count": null,
      "outputs": []
    },
    {
      "cell_type": "code",
      "source": [
        "h3 = model4.fit(X_train, y_train, epochs=200, batch_size=16, validation_data=(X_val, y_val))"
      ],
      "metadata": {
        "id": "C8rRoe2Ss9FV"
      },
      "execution_count": null,
      "outputs": []
    },
    {
      "cell_type": "code",
      "source": [
        "import matplotlib.pyplot as plt\n",
        "\n",
        "plt.plot(h3.history['accuracy'], label=\"train\")\n",
        "plt.plot(h3.history['val_accuracy'], label=\"test\")\n",
        "\n",
        "plt.legend()\n",
        "plt.show()\n",
        "\n",
        "plt.plot(h3.history['loss'], label=\"train\")\n",
        "plt.plot(h3.history['val_loss'], label=\"test\")\n",
        "\n",
        "plt.legend()\n",
        "plt.show()"
      ],
      "metadata": {
        "id": "O8Kg-aU_tEmY"
      },
      "execution_count": null,
      "outputs": []
    }
  ]
}