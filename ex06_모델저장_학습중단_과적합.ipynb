{
  "nbformat": 4,
  "nbformat_minor": 0,
  "metadata": {
    "colab": {
      "private_outputs": true,
      "provenance": []
    },
    "kernelspec": {
      "name": "python3",
      "display_name": "Python 3"
    },
    "language_info": {
      "name": "python"
    }
  },
  "cells": [
    {
      "cell_type": "markdown",
      "source": [
        "### ✅ 학습 목표\n",
        "- 베스트 모델 저장하기 / 불러오기\n",
        "- 학습 중단 기능\n",
        "- 과적합 방지 - Dropout"
      ],
      "metadata": {
        "id": "YaDq5bqzuSVE"
      }
    },
    {
      "cell_type": "markdown",
      "source": [
        "### ✅ 베스트 모델 저장하기 / 학습 중단"
      ],
      "metadata": {
        "id": "3jgUmJblCXht"
      }
    },
    {
      "cell_type": "markdown",
      "source": [
        "- 📌 손글씨 이미지 데이터셋\n",
        "    - 훈련 데이터 6만개, 테스트 데이터 1만개\n",
        "    - 0 ~ 9까지 숫자 이미지에 대한 라벨링"
      ],
      "metadata": {
        "id": "dsmS-Mc9-hAZ"
      }
    },
    {
      "cell_type": "code",
      "source": [
        "from tensorflow.keras.datasets import mnist\n",
        "\n",
        "(X_train, y_train), (X_test, y_test) = mnist.load_data()\n",
        "\n",
        "X_train.shape, X_test.shape"
      ],
      "metadata": {
        "id": "qOlHMv4ruRyv"
      },
      "execution_count": null,
      "outputs": []
    },
    {
      "cell_type": "markdown",
      "source": [
        "- 📌 데이터 확인"
      ],
      "metadata": {
        "id": "b0cVOVZV-ube"
      }
    },
    {
      "cell_type": "code",
      "execution_count": null,
      "metadata": {
        "id": "CSuC4vqwuP6y"
      },
      "outputs": [],
      "source": [
        "import matplotlib.pyplot as plt\n",
        "\n",
        "print(y_train[10])\n",
        "\n",
        "plt.imshow(X_train[10], cmap='gray')\n",
        "plt.show()"
      ]
    },
    {
      "cell_type": "markdown",
      "source": [
        "- 📌 이미지(2차원) -> Dense(1차원) 변환"
      ],
      "metadata": {
        "id": "CFJlwv6aAF6w"
      }
    },
    {
      "cell_type": "code",
      "source": [
        "X_train = X_train.reshape(-1, 28*28)\n",
        "X_test = X_test.reshape(-1, 28*28)\n",
        "\n",
        "X_train.shape, X_test.shape"
      ],
      "metadata": {
        "id": "JDwT-XLpALcN"
      },
      "execution_count": null,
      "outputs": []
    },
    {
      "cell_type": "markdown",
      "source": [
        "- 📌 스케일링 : 0 ~ 255 -> 0.0 ~ 1.0"
      ],
      "metadata": {
        "id": "0cYqB5sUAoki"
      }
    },
    {
      "cell_type": "code",
      "source": [
        "X_train = X_train / 255.0\n",
        "X_test = X_test / 255.0"
      ],
      "metadata": {
        "id": "10K8IpSuAvDo"
      },
      "execution_count": null,
      "outputs": []
    },
    {
      "cell_type": "code",
      "source": [
        "X_train"
      ],
      "metadata": {
        "id": "hH-oyQFXA5qv"
      },
      "execution_count": null,
      "outputs": []
    },
    {
      "cell_type": "markdown",
      "source": [
        "- 📌 라벨 데이터는 원핫 인코딩(다진 분류)"
      ],
      "metadata": {
        "id": "hOVSdQ1yBWez"
      }
    },
    {
      "cell_type": "code",
      "source": [
        "from keras.utils import to_categorical\n",
        "\n",
        "y_train_en = to_categorical(y_train)\n",
        "y_test_en = to_categorical(y_test)\n",
        "\n",
        "y_train_en.shape, y_test_en.shape"
      ],
      "metadata": {
        "id": "-0VuFhzoBccQ"
      },
      "execution_count": null,
      "outputs": []
    },
    {
      "cell_type": "markdown",
      "source": [
        "- 📌 신경망 설계\n"
      ],
      "metadata": {
        "id": "Y9vyguVVCxT2"
      }
    },
    {
      "cell_type": "code",
      "source": [
        "from tensorflow.keras.models import Sequential\n",
        "from tensorflow.keras.layers import Dense\n",
        "\n",
        "model1 = Sequential()\n",
        "\n",
        "# input_dim : 입력 데이터의 크기 (X_train의 크기)\n",
        "\n",
        "model1.add(Dense(512, activation='relu', input_dim=28*28))\n",
        "\n",
        "# 10 -> 라벨 데이터의 크기 (y_train의 크기)\n",
        "\n",
        "model1.add(Dense(10, activation='softmax'))\n",
        "\n",
        "model1.summary()"
      ],
      "metadata": {
        "id": "2x6NID_GCz0R"
      },
      "execution_count": null,
      "outputs": []
    },
    {
      "cell_type": "code",
      "source": [
        "model1.compile(optimizer='adam', loss='categorical_crossentropy', metrics=['accuracy']) # categorical_crossentropy -> 다중분류"
      ],
      "metadata": {
        "id": "xvL4ogPgD0m5"
      },
      "execution_count": null,
      "outputs": []
    },
    {
      "cell_type": "markdown",
      "source": [
        "- 📌 베스트 모델 저장, 학습 중단 설정\n",
        "    - 베스트 모델 : 학습 중에서 설정한 기준 값이 가장 좋은 모델을 저장 (ModelCheckPoint())\n",
        "    - 학습 중단 : 학습 중에 설정한 기준 값이 만족하는 경우에 학습을 중지 시키는 기능 (EaryStopping())"
      ],
      "metadata": {
        "id": "Mt5_5i_6KIXO"
      }
    },
    {
      "cell_type": "code",
      "source": [
        "from google.colab import drive\n",
        "\n",
        "drive.mount('/content/drive')"
      ],
      "metadata": {
        "id": "bmiwVlaaLMcz"
      },
      "execution_count": null,
      "outputs": []
    },
    {
      "cell_type": "code",
      "source": [
        "%cd /content/drive/MyDrive/Colab Notebooks/Deep Learning"
      ],
      "metadata": {
        "id": "hJEMp9TSLgpC"
      },
      "execution_count": null,
      "outputs": []
    },
    {
      "cell_type": "code",
      "source": [
        "from keras.callbacks import ModelCheckpoint, EarlyStopping\n",
        "\n",
        "import os\n",
        "\n",
        "# 모델을 저장할 폴더\n",
        "\n",
        "model_dir = './model/'\n",
        "\n",
        "# 만약 해당 폴더가 없으면 생성\n",
        "\n",
        "if not os.path.exists(model_dir):\n",
        "    os.mkdir(model_dir)\n",
        "\n",
        "# {epoch:02d} : epoch 변수의 값을 2자리 정수로 설정\n",
        "# {loss:.4f} : loss 변수의 값을 소수점 4째 자리까지로 설정\n",
        "# {val_loss:.4f} : val_loss 변수의 값을 소수점 4째 자리까지로 설정\n",
        "# 파일명 예시 : model1_20_0.526_0.406.hdf5\n",
        "\n",
        "file_name = model_dir + \"model1_{epoch:02d}_{loss:.4f}_{val_loss:.4f}.hdf5\"\n",
        "\n",
        "# 베스트 모델 저장 설정\n",
        "# monitor : 베스트 모델을 결정하는 기준값\n",
        "# save_best_only=True : monitor에서 설정한 기준값이 더 나아지는 경우에만 저장\n",
        "\n",
        "mc = ModelCheckpoint(file_name, monitor='val_loss', save_best_only=True) # val_loss -> 과대적합이 안걸리는 가장 바람직한 방법\n",
        "\n",
        "# 학습 중단 기능 : 얼마만큼 학습 횟수를 설정할지 알 수 없기 때문에 학습이 더 나아지지 않는 경우에 자동으로 중지\n",
        "# monitor : 학습 중단을 결정하는 기준값 (가능하면 ModelCheckpoint와 동일한 값을 권장)\n",
        "# patience : 학습이 더 나아지지 않더라도 기다려주는 횟수\n",
        "\n",
        "es = EarlyStopping(monitor='val_loss', patience=5)"
      ],
      "metadata": {
        "id": "q1BJVlFqKsu3"
      },
      "execution_count": null,
      "outputs": []
    },
    {
      "cell_type": "code",
      "source": [
        "# validation_data : 테스트 데이터가 있는 경우\n",
        "# validation_split : 테스트 데이터가 없는 경우 -> 훈련 데이터에서 비율만큼 가져온다\n",
        "# callbacks : 반복 시 마다 호출되어 실행\n",
        "\n",
        "h1 = model1.fit(X_train, y_train_en, epochs=20, batch_size=128, validation_data=(X_test, y_test_en), callbacks=[mc, es])"
      ],
      "metadata": {
        "id": "l8w1fX-JELMx"
      },
      "execution_count": null,
      "outputs": []
    },
    {
      "cell_type": "code",
      "source": [
        "import matplotlib.pyplot as plt\n",
        "\n",
        "plt.plot(h1.history['accuracy'], label=\"train\")\n",
        "plt.plot(h1.history['val_accuracy'], label=\"test\")\n",
        "\n",
        "plt.legend()\n",
        "plt.show()\n",
        "\n",
        "plt.plot(h1.history['loss'], label=\"train\")\n",
        "plt.plot(h1.history['val_loss'], label=\"test\")\n",
        "\n",
        "plt.legend()\n",
        "plt.show()"
      ],
      "metadata": {
        "id": "jnh1o79oJN_Y"
      },
      "execution_count": null,
      "outputs": []
    },
    {
      "cell_type": "markdown",
      "source": [
        "- 📌 모델 불러오기"
      ],
      "metadata": {
        "id": "_2VGi1V_RX63"
      }
    },
    {
      "cell_type": "code",
      "source": [
        "from keras.models import load_model\n",
        "\n",
        "# model_dir = './model/'\n",
        "\n",
        "file_name = model_dir + \"modelmodel1_01_0.0004_0.0666.hdf5\"\n",
        "\n",
        "model2 = load_model(file_name)\n",
        "\n",
        "model2.evaluate(X_train, y_train_en)\n",
        "model2.evaluate(X_test, y_test_en)"
      ],
      "metadata": {
        "id": "I4-ne7D8RbGo"
      },
      "execution_count": null,
      "outputs": []
    }
  ]
}