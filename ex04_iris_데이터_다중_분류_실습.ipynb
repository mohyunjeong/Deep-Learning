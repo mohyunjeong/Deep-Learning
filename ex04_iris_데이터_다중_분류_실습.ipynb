{
  "nbformat": 4,
  "nbformat_minor": 0,
  "metadata": {
    "colab": {
      "private_outputs": true,
      "provenance": []
    },
    "kernelspec": {
      "name": "python3",
      "display_name": "Python 3"
    },
    "language_info": {
      "name": "python"
    }
  },
  "cells": [
    {
      "cell_type": "markdown",
      "source": [
        "### ✅ 목표\n",
        "- iris 데이터를 활용한 붓꽃 품종 분류 진행\n",
        "- 신경망에서 다중 분류 학습을 진행해보자."
      ],
      "metadata": {
        "id": "c1XmRhS3X7rJ"
      }
    },
    {
      "cell_type": "code",
      "execution_count": null,
      "metadata": {
        "id": "7-E1CJcaX3fn"
      },
      "outputs": [],
      "source": [
        "# 라이브러리 import\n",
        "\n",
        "import numpy as np\n",
        "import pandas as pd\n",
        "import matplotlib.pyplot as plt"
      ]
    },
    {
      "cell_type": "code",
      "source": [
        "# 데이터 셋 확보\n",
        "\n",
        "from sklearn.datasets import load_iris"
      ],
      "metadata": {
        "id": "LLTzu5ibYKDL"
      },
      "execution_count": null,
      "outputs": []
    },
    {
      "cell_type": "code",
      "source": [
        "# 데이터 셋 객체 생성\n",
        "\n",
        "iris = load_iris()"
      ],
      "metadata": {
        "id": "3LAzGxb5YRaD"
      },
      "execution_count": null,
      "outputs": []
    },
    {
      "cell_type": "code",
      "source": [
        "iris.keys() # 8개"
      ],
      "metadata": {
        "id": "aFVd8lFxYVwD"
      },
      "execution_count": null,
      "outputs": []
    },
    {
      "cell_type": "code",
      "source": [
        "# 문제 데이터 -> data\n",
        "\n",
        "X = iris['data']\n",
        "\n",
        "# 정답 데이터 -> target\n",
        "\n",
        "y = iris['target']"
      ],
      "metadata": {
        "id": "VgFeuRQCYj49"
      },
      "execution_count": null,
      "outputs": []
    },
    {
      "cell_type": "code",
      "source": [
        "# 가독성을 위해 데이터 프레임 화 시켜주기\n",
        "\n",
        "X = pd.DataFrame(X, columns=iris['feature_names'])\n",
        "X"
      ],
      "metadata": {
        "id": "HRBj2R_uYtCp"
      },
      "execution_count": null,
      "outputs": []
    },
    {
      "cell_type": "code",
      "source": [
        "# 훈련 / 평가 셋 나눠주기\n",
        "\n",
        "from sklearn.model_selection import train_test_split\n",
        "\n",
        "X_train, X_test, y_train, y_test = train_test_split(X, y, test_size=0.3, random_state=65)"
      ],
      "metadata": {
        "id": "ce2H-mEWY9sD"
      },
      "execution_count": null,
      "outputs": []
    },
    {
      "cell_type": "code",
      "source": [
        "X_train.shape, X_test.shape, y_train.shape, y_test.shape"
      ],
      "metadata": {
        "id": "3D1Z-E5iZXty"
      },
      "execution_count": null,
      "outputs": []
    },
    {
      "cell_type": "code",
      "source": [
        "# 정답 데이터 확인 - 다중 분류\n",
        "\n",
        "np.unique(y_train)"
      ],
      "metadata": {
        "id": "AMPwGFnwZoGZ"
      },
      "execution_count": null,
      "outputs": []
    },
    {
      "cell_type": "code",
      "source": [
        "# 다중 분류에서는 정답 데이터를 원핫 인코딩 진행\n",
        "# 텐서플로우에서 제공하는 원핫 인코딩 방법 사용해보기\n",
        "\n",
        "from tensorflow.keras.utils import to_categorical"
      ],
      "metadata": {
        "id": "heNzlpA7Zv6B"
      },
      "execution_count": null,
      "outputs": []
    },
    {
      "cell_type": "code",
      "source": [
        "y_train = to_categorical(y_train)\n",
        "y_test = to_categorical(y_test)"
      ],
      "metadata": {
        "id": "baVq5flsaNvC"
      },
      "execution_count": null,
      "outputs": []
    },
    {
      "cell_type": "code",
      "source": [
        "y_train # 원핫 인코딩 완료"
      ],
      "metadata": {
        "id": "VsDQzve2aUjl"
      },
      "execution_count": null,
      "outputs": []
    },
    {
      "cell_type": "markdown",
      "source": [
        "### ✅ 신경망 모델링"
      ],
      "metadata": {
        "id": "Jz_D1la0afLp"
      }
    },
    {
      "cell_type": "code",
      "source": [
        "# 1. 신경망 구조 설계\n",
        "# 재료 가져오기\n",
        "\n",
        "from tensorflow.keras import Sequential\n",
        "from tensorflow.keras.layers import Dense"
      ],
      "metadata": {
        "id": "CExG3TnCajvU"
      },
      "execution_count": null,
      "outputs": []
    },
    {
      "cell_type": "code",
      "source": [
        "# 신경망 뼈대 구축\n",
        "\n",
        "model = Sequential()\n",
        "\n",
        "# 입력층 설정\n",
        "\n",
        "model.add(Dense(units = 16, input_dim = 4, activation = 'relu'))\n",
        "\n",
        "# 중간층 설정\n",
        "\n",
        "model.add(Dense(units = 32, activation = 'relu'))\n",
        "model.add(Dense(units = 16, activation = 'relu'))\n",
        "model.add(Dense(units = 8, activation = 'relu'))\n",
        "\n",
        "# 출력층 설정\n",
        "# 다중 분류 : 출력층의 뉴런 갯수는 정답 데이터의 종류 갯수만큼 설정 -> 0, 1, 2이기 때문에 units = 3\n",
        "\n",
        "model.add(Dense(units = 3, activation = 'softmax'))"
      ],
      "metadata": {
        "id": "ba9VHfTBaeeg"
      },
      "execution_count": null,
      "outputs": []
    },
    {
      "cell_type": "code",
      "source": [
        "# 2. 학습 / 평가 방법 설정\n",
        "# 우리가 진행하는 실습은 다중 분류 실습이다.\n",
        "# 다중 분류에 맞는 손실함수를 설정하자\n",
        "# 이진 분류 : binary_crossentropy\n",
        "# 다중 분류 : categorical_crossentropy\n",
        "\n",
        "model.compile(optimizer = 'adam', loss = 'categorical_crossentropy', metrics = ['accuracy'])\n",
        "# sgd : 확률적 경사 하강법"
      ],
      "metadata": {
        "id": "K-olu1zDcAjY"
      },
      "execution_count": null,
      "outputs": []
    },
    {
      "cell_type": "code",
      "source": [
        "# 3. 모델 학습\n",
        "\n",
        "h = model.fit(X_train, y_train, epochs = 300) # 정답은 원핫 인코딩이 진행된 데이터 넣어주기!!"
      ],
      "metadata": {
        "id": "2Y3CWc1VcwJz"
      },
      "execution_count": null,
      "outputs": []
    },
    {
      "cell_type": "code",
      "source": [
        "# 시각화\n",
        "\n",
        "plt.plot(h.history['accuracy'])\n",
        "plt.show()"
      ],
      "metadata": {
        "id": "aq1tZVredeQL"
      },
      "execution_count": null,
      "outputs": []
    },
    {
      "cell_type": "code",
      "source": [
        "# 4. 모델 평가\n",
        "\n",
        "model.evaluate(X_test, y_test)"
      ],
      "metadata": {
        "id": "SUSp8v2deVfp"
      },
      "execution_count": null,
      "outputs": []
    }
  ]
}